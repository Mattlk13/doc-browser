{
 "cells": [
  {
   "cell_type": "code",
   "execution_count": 20,
   "metadata": {
    "collapsed": true
   },
   "outputs": [],
   "source": [
    "import pandas as pd\n",
    "import bokeh.plotting as plotting\n",
    "import numpy as np\n",
    "from bokeh.models import LabelSet, ColumnDataSource"
   ]
  },
  {
   "cell_type": "code",
   "execution_count": 21,
   "metadata": {},
   "outputs": [
    {
     "data": {
      "text/html": [
       "\n",
       "    <div class=\"bk-root\">\n",
       "        <a href=\"https://bokeh.pydata.org\" target=\"_blank\" class=\"bk-logo bk-logo-small bk-logo-notebook\"></a>\n",
       "        <span id=\"88658c95-82aa-4580-b216-d24e7452b413\">Loading BokehJS ...</span>\n",
       "    </div>"
      ]
     },
     "metadata": {},
     "output_type": "display_data"
    },
    {
     "data": {
      "application/javascript": [
       "\n",
       "(function(root) {\n",
       "  function now() {\n",
       "    return new Date();\n",
       "  }\n",
       "\n",
       "  var force = true;\n",
       "\n",
       "  if (typeof (root._bokeh_onload_callbacks) === \"undefined\" || force === true) {\n",
       "    root._bokeh_onload_callbacks = [];\n",
       "    root._bokeh_is_loading = undefined;\n",
       "  }\n",
       "\n",
       "  var JS_MIME_TYPE = 'application/javascript';\n",
       "  var HTML_MIME_TYPE = 'text/html';\n",
       "  var EXEC_MIME_TYPE = 'application/vnd.bokehjs_exec.v0+json';\n",
       "  var CLASS_NAME = 'output_bokeh rendered_html';\n",
       "\n",
       "  /**\n",
       "   * Render data to the DOM node\n",
       "   */\n",
       "  function render(props, node) {\n",
       "    var script = document.createElement(\"script\");\n",
       "    node.appendChild(script);\n",
       "  }\n",
       "\n",
       "  /**\n",
       "   * Handle when an output is cleared or removed\n",
       "   */\n",
       "  function handleClearOutput(event, handle) {\n",
       "    var cell = handle.cell;\n",
       "\n",
       "    var id = cell.output_area._bokeh_element_id;\n",
       "    var server_id = cell.output_area._bokeh_server_id;\n",
       "    // Clean up Bokeh references\n",
       "    if (id !== undefined) {\n",
       "      Bokeh.index[id].model.document.clear();\n",
       "      delete Bokeh.index[id];\n",
       "    }\n",
       "\n",
       "    if (server_id !== undefined) {\n",
       "      // Clean up Bokeh references\n",
       "      var cmd = \"from bokeh.io.state import curstate; print(curstate().uuid_to_server['\" + server_id + \"'].get_sessions()[0].document.roots[0]._id)\";\n",
       "      cell.notebook.kernel.execute(cmd, {\n",
       "        iopub: {\n",
       "          output: function(msg) {\n",
       "            var element_id = msg.content.text.trim();\n",
       "            Bokeh.index[element_id].model.document.clear();\n",
       "            delete Bokeh.index[element_id];\n",
       "          }\n",
       "        }\n",
       "      });\n",
       "      // Destroy server and session\n",
       "      var cmd = \"import bokeh.io.notebook as ion; ion.destroy_server('\" + server_id + \"')\";\n",
       "      cell.notebook.kernel.execute(cmd);\n",
       "    }\n",
       "  }\n",
       "\n",
       "  /**\n",
       "   * Handle when a new output is added\n",
       "   */\n",
       "  function handleAddOutput(event, handle) {\n",
       "    var output_area = handle.output_area;\n",
       "    var output = handle.output;\n",
       "\n",
       "    // limit handleAddOutput to display_data with EXEC_MIME_TYPE content only\n",
       "    if ((output.output_type != \"display_data\") || (!output.data.hasOwnProperty(EXEC_MIME_TYPE))) {\n",
       "      return\n",
       "    }\n",
       "\n",
       "    var toinsert = output_area.element.find(\".\" + CLASS_NAME.split(' ')[0]);\n",
       "\n",
       "    if (output.metadata[EXEC_MIME_TYPE][\"id\"] !== undefined) {\n",
       "      toinsert[0].firstChild.textContent = output.data[JS_MIME_TYPE];\n",
       "      // store reference to embed id on output_area\n",
       "      output_area._bokeh_element_id = output.metadata[EXEC_MIME_TYPE][\"id\"];\n",
       "    }\n",
       "    if (output.metadata[EXEC_MIME_TYPE][\"server_id\"] !== undefined) {\n",
       "      var bk_div = document.createElement(\"div\");\n",
       "      bk_div.innerHTML = output.data[HTML_MIME_TYPE];\n",
       "      var script_attrs = bk_div.children[0].attributes;\n",
       "      for (var i = 0; i < script_attrs.length; i++) {\n",
       "        toinsert[0].firstChild.setAttribute(script_attrs[i].name, script_attrs[i].value);\n",
       "      }\n",
       "      // store reference to server id on output_area\n",
       "      output_area._bokeh_server_id = output.metadata[EXEC_MIME_TYPE][\"server_id\"];\n",
       "    }\n",
       "  }\n",
       "\n",
       "  function register_renderer(events, OutputArea) {\n",
       "\n",
       "    function append_mime(data, metadata, element) {\n",
       "      // create a DOM node to render to\n",
       "      var toinsert = this.create_output_subarea(\n",
       "        metadata,\n",
       "        CLASS_NAME,\n",
       "        EXEC_MIME_TYPE\n",
       "      );\n",
       "      this.keyboard_manager.register_events(toinsert);\n",
       "      // Render to node\n",
       "      var props = {data: data, metadata: metadata[EXEC_MIME_TYPE]};\n",
       "      render(props, toinsert[0]);\n",
       "      element.append(toinsert);\n",
       "      return toinsert\n",
       "    }\n",
       "\n",
       "    /* Handle when an output is cleared or removed */\n",
       "    events.on('clear_output.CodeCell', handleClearOutput);\n",
       "    events.on('delete.Cell', handleClearOutput);\n",
       "\n",
       "    /* Handle when a new output is added */\n",
       "    events.on('output_added.OutputArea', handleAddOutput);\n",
       "\n",
       "    /**\n",
       "     * Register the mime type and append_mime function with output_area\n",
       "     */\n",
       "    OutputArea.prototype.register_mime_type(EXEC_MIME_TYPE, append_mime, {\n",
       "      /* Is output safe? */\n",
       "      safe: true,\n",
       "      /* Index of renderer in `output_area.display_order` */\n",
       "      index: 0\n",
       "    });\n",
       "  }\n",
       "\n",
       "  // register the mime type if in Jupyter Notebook environment and previously unregistered\n",
       "  if (root.Jupyter !== undefined) {\n",
       "    var events = require('base/js/events');\n",
       "    var OutputArea = require('notebook/js/outputarea').OutputArea;\n",
       "\n",
       "    if (OutputArea.prototype.mime_types().indexOf(EXEC_MIME_TYPE) == -1) {\n",
       "      register_renderer(events, OutputArea);\n",
       "    }\n",
       "  }\n",
       "\n",
       "  \n",
       "  if (typeof (root._bokeh_timeout) === \"undefined\" || force === true) {\n",
       "    root._bokeh_timeout = Date.now() + 5000;\n",
       "    root._bokeh_failed_load = false;\n",
       "  }\n",
       "\n",
       "  var NB_LOAD_WARNING = {'data': {'text/html':\n",
       "     \"<div style='background-color: #fdd'>\\n\"+\n",
       "     \"<p>\\n\"+\n",
       "     \"BokehJS does not appear to have successfully loaded. If loading BokehJS from CDN, this \\n\"+\n",
       "     \"may be due to a slow or bad network connection. Possible fixes:\\n\"+\n",
       "     \"</p>\\n\"+\n",
       "     \"<ul>\\n\"+\n",
       "     \"<li>re-rerun `output_notebook()` to attempt to load from CDN again, or</li>\\n\"+\n",
       "     \"<li>use INLINE resources instead, as so:</li>\\n\"+\n",
       "     \"</ul>\\n\"+\n",
       "     \"<code>\\n\"+\n",
       "     \"from bokeh.resources import INLINE\\n\"+\n",
       "     \"output_notebook(resources=INLINE)\\n\"+\n",
       "     \"</code>\\n\"+\n",
       "     \"</div>\"}};\n",
       "\n",
       "  function display_loaded() {\n",
       "    var el = document.getElementById(\"88658c95-82aa-4580-b216-d24e7452b413\");\n",
       "    if (el != null) {\n",
       "      el.textContent = \"BokehJS is loading...\";\n",
       "    }\n",
       "    if (root.Bokeh !== undefined) {\n",
       "      if (el != null) {\n",
       "        el.textContent = \"BokehJS \" + root.Bokeh.version + \" successfully loaded.\";\n",
       "      }\n",
       "    } else if (Date.now() < root._bokeh_timeout) {\n",
       "      setTimeout(display_loaded, 100)\n",
       "    }\n",
       "  }\n",
       "\n",
       "\n",
       "  function run_callbacks() {\n",
       "    try {\n",
       "      root._bokeh_onload_callbacks.forEach(function(callback) { callback() });\n",
       "    }\n",
       "    finally {\n",
       "      delete root._bokeh_onload_callbacks\n",
       "    }\n",
       "    console.info(\"Bokeh: all callbacks have finished\");\n",
       "  }\n",
       "\n",
       "  function load_libs(js_urls, callback) {\n",
       "    root._bokeh_onload_callbacks.push(callback);\n",
       "    if (root._bokeh_is_loading > 0) {\n",
       "      console.log(\"Bokeh: BokehJS is being loaded, scheduling callback at\", now());\n",
       "      return null;\n",
       "    }\n",
       "    if (js_urls == null || js_urls.length === 0) {\n",
       "      run_callbacks();\n",
       "      return null;\n",
       "    }\n",
       "    console.log(\"Bokeh: BokehJS not loaded, scheduling load and callback at\", now());\n",
       "    root._bokeh_is_loading = js_urls.length;\n",
       "    for (var i = 0; i < js_urls.length; i++) {\n",
       "      var url = js_urls[i];\n",
       "      var s = document.createElement('script');\n",
       "      s.src = url;\n",
       "      s.async = false;\n",
       "      s.onreadystatechange = s.onload = function() {\n",
       "        root._bokeh_is_loading--;\n",
       "        if (root._bokeh_is_loading === 0) {\n",
       "          console.log(\"Bokeh: all BokehJS libraries loaded\");\n",
       "          run_callbacks()\n",
       "        }\n",
       "      };\n",
       "      s.onerror = function() {\n",
       "        console.warn(\"failed to load library \" + url);\n",
       "      };\n",
       "      console.log(\"Bokeh: injecting script tag for BokehJS library: \", url);\n",
       "      document.getElementsByTagName(\"head\")[0].appendChild(s);\n",
       "    }\n",
       "  };var element = document.getElementById(\"88658c95-82aa-4580-b216-d24e7452b413\");\n",
       "  if (element == null) {\n",
       "    console.log(\"Bokeh: ERROR: autoload.js configured with elementid '88658c95-82aa-4580-b216-d24e7452b413' but no matching script tag was found. \")\n",
       "    return false;\n",
       "  }\n",
       "\n",
       "  var js_urls = [\"https://cdn.pydata.org/bokeh/release/bokeh-0.12.13.min.js\", \"https://cdn.pydata.org/bokeh/release/bokeh-widgets-0.12.13.min.js\", \"https://cdn.pydata.org/bokeh/release/bokeh-tables-0.12.13.min.js\", \"https://cdn.pydata.org/bokeh/release/bokeh-gl-0.12.13.min.js\"];\n",
       "\n",
       "  var inline_js = [\n",
       "    function(Bokeh) {\n",
       "      Bokeh.set_log_level(\"info\");\n",
       "    },\n",
       "    \n",
       "    function(Bokeh) {\n",
       "      \n",
       "    },\n",
       "    function(Bokeh) {\n",
       "      console.log(\"Bokeh: injecting CSS: https://cdn.pydata.org/bokeh/release/bokeh-0.12.13.min.css\");\n",
       "      Bokeh.embed.inject_css(\"https://cdn.pydata.org/bokeh/release/bokeh-0.12.13.min.css\");\n",
       "      console.log(\"Bokeh: injecting CSS: https://cdn.pydata.org/bokeh/release/bokeh-widgets-0.12.13.min.css\");\n",
       "      Bokeh.embed.inject_css(\"https://cdn.pydata.org/bokeh/release/bokeh-widgets-0.12.13.min.css\");\n",
       "      console.log(\"Bokeh: injecting CSS: https://cdn.pydata.org/bokeh/release/bokeh-tables-0.12.13.min.css\");\n",
       "      Bokeh.embed.inject_css(\"https://cdn.pydata.org/bokeh/release/bokeh-tables-0.12.13.min.css\");\n",
       "    }\n",
       "  ];\n",
       "\n",
       "  function run_inline_js() {\n",
       "    \n",
       "    if ((root.Bokeh !== undefined) || (force === true)) {\n",
       "      for (var i = 0; i < inline_js.length; i++) {\n",
       "        inline_js[i].call(root, root.Bokeh);\n",
       "      }if (force === true) {\n",
       "        display_loaded();\n",
       "      }} else if (Date.now() < root._bokeh_timeout) {\n",
       "      setTimeout(run_inline_js, 100);\n",
       "    } else if (!root._bokeh_failed_load) {\n",
       "      console.log(\"Bokeh: BokehJS failed to load within specified timeout.\");\n",
       "      root._bokeh_failed_load = true;\n",
       "    } else if (force !== true) {\n",
       "      var cell = $(document.getElementById(\"88658c95-82aa-4580-b216-d24e7452b413\")).parents('.cell').data().cell;\n",
       "      cell.output_area.append_execute_result(NB_LOAD_WARNING)\n",
       "    }\n",
       "\n",
       "  }\n",
       "\n",
       "  if (root._bokeh_is_loading === 0) {\n",
       "    console.log(\"Bokeh: BokehJS loaded, going straight to plotting\");\n",
       "    run_inline_js();\n",
       "  } else {\n",
       "    load_libs(js_urls, function() {\n",
       "      console.log(\"Bokeh: BokehJS plotting callback run at\", now());\n",
       "      run_inline_js();\n",
       "    });\n",
       "  }\n",
       "}(window));"
      ],
      "application/vnd.bokehjs_load.v0+json": "\n(function(root) {\n  function now() {\n    return new Date();\n  }\n\n  var force = true;\n\n  if (typeof (root._bokeh_onload_callbacks) === \"undefined\" || force === true) {\n    root._bokeh_onload_callbacks = [];\n    root._bokeh_is_loading = undefined;\n  }\n\n  \n\n  \n  if (typeof (root._bokeh_timeout) === \"undefined\" || force === true) {\n    root._bokeh_timeout = Date.now() + 5000;\n    root._bokeh_failed_load = false;\n  }\n\n  var NB_LOAD_WARNING = {'data': {'text/html':\n     \"<div style='background-color: #fdd'>\\n\"+\n     \"<p>\\n\"+\n     \"BokehJS does not appear to have successfully loaded. If loading BokehJS from CDN, this \\n\"+\n     \"may be due to a slow or bad network connection. Possible fixes:\\n\"+\n     \"</p>\\n\"+\n     \"<ul>\\n\"+\n     \"<li>re-rerun `output_notebook()` to attempt to load from CDN again, or</li>\\n\"+\n     \"<li>use INLINE resources instead, as so:</li>\\n\"+\n     \"</ul>\\n\"+\n     \"<code>\\n\"+\n     \"from bokeh.resources import INLINE\\n\"+\n     \"output_notebook(resources=INLINE)\\n\"+\n     \"</code>\\n\"+\n     \"</div>\"}};\n\n  function display_loaded() {\n    var el = document.getElementById(\"88658c95-82aa-4580-b216-d24e7452b413\");\n    if (el != null) {\n      el.textContent = \"BokehJS is loading...\";\n    }\n    if (root.Bokeh !== undefined) {\n      if (el != null) {\n        el.textContent = \"BokehJS \" + root.Bokeh.version + \" successfully loaded.\";\n      }\n    } else if (Date.now() < root._bokeh_timeout) {\n      setTimeout(display_loaded, 100)\n    }\n  }\n\n\n  function run_callbacks() {\n    try {\n      root._bokeh_onload_callbacks.forEach(function(callback) { callback() });\n    }\n    finally {\n      delete root._bokeh_onload_callbacks\n    }\n    console.info(\"Bokeh: all callbacks have finished\");\n  }\n\n  function load_libs(js_urls, callback) {\n    root._bokeh_onload_callbacks.push(callback);\n    if (root._bokeh_is_loading > 0) {\n      console.log(\"Bokeh: BokehJS is being loaded, scheduling callback at\", now());\n      return null;\n    }\n    if (js_urls == null || js_urls.length === 0) {\n      run_callbacks();\n      return null;\n    }\n    console.log(\"Bokeh: BokehJS not loaded, scheduling load and callback at\", now());\n    root._bokeh_is_loading = js_urls.length;\n    for (var i = 0; i < js_urls.length; i++) {\n      var url = js_urls[i];\n      var s = document.createElement('script');\n      s.src = url;\n      s.async = false;\n      s.onreadystatechange = s.onload = function() {\n        root._bokeh_is_loading--;\n        if (root._bokeh_is_loading === 0) {\n          console.log(\"Bokeh: all BokehJS libraries loaded\");\n          run_callbacks()\n        }\n      };\n      s.onerror = function() {\n        console.warn(\"failed to load library \" + url);\n      };\n      console.log(\"Bokeh: injecting script tag for BokehJS library: \", url);\n      document.getElementsByTagName(\"head\")[0].appendChild(s);\n    }\n  };var element = document.getElementById(\"88658c95-82aa-4580-b216-d24e7452b413\");\n  if (element == null) {\n    console.log(\"Bokeh: ERROR: autoload.js configured with elementid '88658c95-82aa-4580-b216-d24e7452b413' but no matching script tag was found. \")\n    return false;\n  }\n\n  var js_urls = [\"https://cdn.pydata.org/bokeh/release/bokeh-0.12.13.min.js\", \"https://cdn.pydata.org/bokeh/release/bokeh-widgets-0.12.13.min.js\", \"https://cdn.pydata.org/bokeh/release/bokeh-tables-0.12.13.min.js\", \"https://cdn.pydata.org/bokeh/release/bokeh-gl-0.12.13.min.js\"];\n\n  var inline_js = [\n    function(Bokeh) {\n      Bokeh.set_log_level(\"info\");\n    },\n    \n    function(Bokeh) {\n      \n    },\n    function(Bokeh) {\n      console.log(\"Bokeh: injecting CSS: https://cdn.pydata.org/bokeh/release/bokeh-0.12.13.min.css\");\n      Bokeh.embed.inject_css(\"https://cdn.pydata.org/bokeh/release/bokeh-0.12.13.min.css\");\n      console.log(\"Bokeh: injecting CSS: https://cdn.pydata.org/bokeh/release/bokeh-widgets-0.12.13.min.css\");\n      Bokeh.embed.inject_css(\"https://cdn.pydata.org/bokeh/release/bokeh-widgets-0.12.13.min.css\");\n      console.log(\"Bokeh: injecting CSS: https://cdn.pydata.org/bokeh/release/bokeh-tables-0.12.13.min.css\");\n      Bokeh.embed.inject_css(\"https://cdn.pydata.org/bokeh/release/bokeh-tables-0.12.13.min.css\");\n    }\n  ];\n\n  function run_inline_js() {\n    \n    if ((root.Bokeh !== undefined) || (force === true)) {\n      for (var i = 0; i < inline_js.length; i++) {\n        inline_js[i].call(root, root.Bokeh);\n      }if (force === true) {\n        display_loaded();\n      }} else if (Date.now() < root._bokeh_timeout) {\n      setTimeout(run_inline_js, 100);\n    } else if (!root._bokeh_failed_load) {\n      console.log(\"Bokeh: BokehJS failed to load within specified timeout.\");\n      root._bokeh_failed_load = true;\n    } else if (force !== true) {\n      var cell = $(document.getElementById(\"88658c95-82aa-4580-b216-d24e7452b413\")).parents('.cell').data().cell;\n      cell.output_area.append_execute_result(NB_LOAD_WARNING)\n    }\n\n  }\n\n  if (root._bokeh_is_loading === 0) {\n    console.log(\"Bokeh: BokehJS loaded, going straight to plotting\");\n    run_inline_js();\n  } else {\n    load_libs(js_urls, function() {\n      console.log(\"Bokeh: BokehJS plotting callback run at\", now());\n      run_inline_js();\n    });\n  }\n}(window));"
     },
     "metadata": {},
     "output_type": "display_data"
    }
   ],
   "source": [
    "plotting.output_notebook()"
   ]
  },
  {
   "cell_type": "code",
   "execution_count": 13,
   "metadata": {
    "collapsed": true
   },
   "outputs": [],
   "source": [
    "def plot(suffix):\n",
    "    data = pd.read_csv(f'/home/incomplete/project/doc-browser/prof/search_{suffix}.csv')\n",
    "    col_names = [x.strip() for x in data.columns.tolist()]\n",
    "    vs = data.values\n",
    "    means = np.mean(vs, axis=0)\n",
    "    means = means[1:] # remove length\n",
    "    print(f'mean total cost: {np.sum(means)}')\n",
    "    print(means)\n",
    "    later = means[1:]\n",
    "    earlier = means[:-1]\n",
    "    diff = later - earlier\n",
    "    means = np.concatenate([[means[0]], diff], axis=0)\n",
    "    print(means)\n",
    "    fig = plotting.figure(title='mean cost', x_axis_label='end', y_axis_label='nanoseconds')\n",
    "    ds = ColumnDataSource(data={\n",
    "        'x': np.arange(len(means)),\n",
    "        'y': means,\n",
    "        'names': col_names[1:]\n",
    "    })\n",
    "\n",
    "    fig.line(x='x', y='y', source=ds)\n",
    "    fig.circle(x='x', y='y', source=ds)\n",
    "    labels = LabelSet(x='x', y='y', text='names', level='glyph',\n",
    "                      x_offset=10, y_offset=-5, source=ds, render_mode='canvas')\n",
    "\n",
    "    fig.add_layout(labels)\n",
    "    plotting.show(fig)"
   ]
  },
  {
   "cell_type": "markdown",
   "metadata": {},
   "source": [
    "search_1.csv and search_2.csv are produced using commit:\n",
    "9d9177df31b7fbfc1b454cb4088b8b0e6955d998"
   ]
  },
  {
   "cell_type": "code",
   "execution_count": 16,
   "metadata": {},
   "outputs": [
    {
     "name": "stdout",
     "output_type": "stream",
     "text": [
      "mean total cost: 21812.42105263158\n",
      "[1476.25851393 2470.23993808 2864.50464396 3205.6130031  3572.13931889\n",
      " 3938.13931889 4285.52631579]\n",
      "[1476.25851393  993.98142415  394.26470588  341.10835913  366.52631579\n",
      "  366.          347.3869969 ]\n"
     ]
    },
    {
     "data": {
      "text/html": [
       "\n",
       "<div class=\"bk-root\">\n",
       "    <div class=\"bk-plotdiv\" id=\"115ef640-04a9-41a9-b0a9-24dcb3c07718\"></div>\n",
       "</div>"
      ]
     },
     "metadata": {},
     "output_type": "display_data"
    },
    {
     "data": {
      "application/javascript": [
       "(function(root) {\n",
       "  function embed_document(root) {\n",
       "    \n",
       "  var docs_json = {\"c3beb4ee-f6ab-4de0-8bbd-2df3785af6c8\":{\"roots\":{\"references\":[{\"attributes\":{\"callback\":null},\"id\":\"de9e7f56-cff3-4e70-be5e-4aaacbead35a\",\"type\":\"DataRange1d\"},{\"attributes\":{\"fill_alpha\":{\"value\":0.1},\"fill_color\":{\"value\":\"#1f77b4\"},\"line_alpha\":{\"value\":0.1},\"line_color\":{\"value\":\"#1f77b4\"},\"x\":{\"field\":\"x\"},\"y\":{\"field\":\"y\"}},\"id\":\"c5362791-f548-4d28-8392-f37bcd74577b\",\"type\":\"Circle\"},{\"attributes\":{\"source\":{\"id\":\"0420d60b-a59d-4f9e-b561-2aa6fd0fc3ed\",\"type\":\"ColumnDataSource\"}},\"id\":\"dff29f16-7a35-40f6-b789-77c3d058ccc7\",\"type\":\"CDSView\"},{\"attributes\":{\"active_drag\":\"auto\",\"active_inspect\":\"auto\",\"active_scroll\":\"auto\",\"active_tap\":\"auto\",\"tools\":[{\"id\":\"c3fc1659-7cd8-4b96-bd6a-dd1ae4b8c560\",\"type\":\"PanTool\"},{\"id\":\"d90fd890-f8f5-4de8-8865-58d4866b9127\",\"type\":\"WheelZoomTool\"},{\"id\":\"6767563c-27d4-4cfe-8c00-07fef42121e8\",\"type\":\"BoxZoomTool\"},{\"id\":\"93ea65f7-14db-4585-9f1b-b29b6b323d1d\",\"type\":\"SaveTool\"},{\"id\":\"9a85b0e6-46df-445c-9bc9-c91b51a7a998\",\"type\":\"ResetTool\"},{\"id\":\"8b6d33b1-570d-4334-bc59-e0de476b6cf8\",\"type\":\"HelpTool\"}]},\"id\":\"5d65c8c1-066a-428f-b262-eb32abb5b5aa\",\"type\":\"Toolbar\"},{\"attributes\":{\"line_color\":\"#1f77b4\",\"x\":{\"field\":\"x\"},\"y\":{\"field\":\"y\"}},\"id\":\"7a9a3bf7-b526-4d30-84b7-d91972189b74\",\"type\":\"Line\"},{\"attributes\":{\"plot\":null,\"text\":\"mean cost\"},\"id\":\"4d260fcd-f895-418f-a13c-d622bf894053\",\"type\":\"Title\"},{\"attributes\":{\"bottom_units\":\"screen\",\"fill_alpha\":{\"value\":0.5},\"fill_color\":{\"value\":\"lightgrey\"},\"left_units\":\"screen\",\"level\":\"overlay\",\"line_alpha\":{\"value\":1.0},\"line_color\":{\"value\":\"black\"},\"line_dash\":[4,4],\"line_width\":{\"value\":2},\"plot\":null,\"render_mode\":\"css\",\"right_units\":\"screen\",\"top_units\":\"screen\"},\"id\":\"fdc25a18-3ade-44d9-ae5a-004f6f351f99\",\"type\":\"BoxAnnotation\"},{\"attributes\":{},\"id\":\"fe6f72a9-6e4b-47d7-aabb-31e022b125e1\",\"type\":\"LinearScale\"},{\"attributes\":{},\"id\":\"c3fc1659-7cd8-4b96-bd6a-dd1ae4b8c560\",\"type\":\"PanTool\"},{\"attributes\":{\"data_source\":{\"id\":\"0420d60b-a59d-4f9e-b561-2aa6fd0fc3ed\",\"type\":\"ColumnDataSource\"},\"glyph\":{\"id\":\"7a9a3bf7-b526-4d30-84b7-d91972189b74\",\"type\":\"Line\"},\"hover_glyph\":null,\"muted_glyph\":null,\"nonselection_glyph\":{\"id\":\"cec712a5-67fa-49b0-8d19-22f55aa49c4d\",\"type\":\"Line\"},\"selection_glyph\":null,\"view\":{\"id\":\"b4cf5ae9-43c7-454b-825a-1556e2801048\",\"type\":\"CDSView\"}},\"id\":\"b6153f41-fd32-4acb-a7b9-c83aa4428cf1\",\"type\":\"GlyphRenderer\"},{\"attributes\":{\"below\":[{\"id\":\"0bf896c3-a54e-4495-bacc-747310cf8220\",\"type\":\"LinearAxis\"}],\"left\":[{\"id\":\"786af553-a07c-43be-8d65-ef161f10e3bf\",\"type\":\"LinearAxis\"}],\"renderers\":[{\"id\":\"0bf896c3-a54e-4495-bacc-747310cf8220\",\"type\":\"LinearAxis\"},{\"id\":\"f6b47fd0-8604-4f6e-9c1a-4681147c9b9c\",\"type\":\"Grid\"},{\"id\":\"786af553-a07c-43be-8d65-ef161f10e3bf\",\"type\":\"LinearAxis\"},{\"id\":\"a8399b2a-674d-4317-8294-6b94bcf1dfd2\",\"type\":\"Grid\"},{\"id\":\"fdc25a18-3ade-44d9-ae5a-004f6f351f99\",\"type\":\"BoxAnnotation\"},{\"id\":\"b6153f41-fd32-4acb-a7b9-c83aa4428cf1\",\"type\":\"GlyphRenderer\"},{\"id\":\"70cd047b-9f57-400f-8a19-ec88c5d28551\",\"type\":\"GlyphRenderer\"},{\"id\":\"1a3eeac7-88dc-44bf-a62c-46d977ea5c71\",\"type\":\"LabelSet\"}],\"title\":{\"id\":\"4d260fcd-f895-418f-a13c-d622bf894053\",\"type\":\"Title\"},\"toolbar\":{\"id\":\"5d65c8c1-066a-428f-b262-eb32abb5b5aa\",\"type\":\"Toolbar\"},\"x_range\":{\"id\":\"de9e7f56-cff3-4e70-be5e-4aaacbead35a\",\"type\":\"DataRange1d\"},\"x_scale\":{\"id\":\"fe6f72a9-6e4b-47d7-aabb-31e022b125e1\",\"type\":\"LinearScale\"},\"y_range\":{\"id\":\"b0f74534-1f1b-4843-8a83-434bf9e9081b\",\"type\":\"DataRange1d\"},\"y_scale\":{\"id\":\"09510708-8d3b-4e75-9a71-765c60547d18\",\"type\":\"LinearScale\"}},\"id\":\"418f5cdc-a4ae-459a-9354-ddceba2576cb\",\"subtype\":\"Figure\",\"type\":\"Plot\"},{\"attributes\":{},\"id\":\"8b6d33b1-570d-4334-bc59-e0de476b6cf8\",\"type\":\"HelpTool\"},{\"attributes\":{\"data_source\":{\"id\":\"0420d60b-a59d-4f9e-b561-2aa6fd0fc3ed\",\"type\":\"ColumnDataSource\"},\"glyph\":{\"id\":\"7477a6b2-fe69-490a-b30c-9af996e0ab95\",\"type\":\"Circle\"},\"hover_glyph\":null,\"muted_glyph\":null,\"nonselection_glyph\":{\"id\":\"c5362791-f548-4d28-8392-f37bcd74577b\",\"type\":\"Circle\"},\"selection_glyph\":null,\"view\":{\"id\":\"dff29f16-7a35-40f6-b789-77c3d058ccc7\",\"type\":\"CDSView\"}},\"id\":\"70cd047b-9f57-400f-8a19-ec88c5d28551\",\"type\":\"GlyphRenderer\"},{\"attributes\":{\"callback\":null},\"id\":\"b0f74534-1f1b-4843-8a83-434bf9e9081b\",\"type\":\"DataRange1d\"},{\"attributes\":{},\"id\":\"f47f7c7e-9a65-4e58-94b0-6511455268cf\",\"type\":\"BasicTickFormatter\"},{\"attributes\":{\"line_alpha\":0.1,\"line_color\":\"#1f77b4\",\"x\":{\"field\":\"x\"},\"y\":{\"field\":\"y\"}},\"id\":\"cec712a5-67fa-49b0-8d19-22f55aa49c4d\",\"type\":\"Line\"},{\"attributes\":{},\"id\":\"1eeae5ba-2281-4b97-ad76-7483f5c104b1\",\"type\":\"BasicTicker\"},{\"attributes\":{\"fill_color\":{\"value\":\"#1f77b4\"},\"line_color\":{\"value\":\"#1f77b4\"},\"x\":{\"field\":\"x\"},\"y\":{\"field\":\"y\"}},\"id\":\"7477a6b2-fe69-490a-b30c-9af996e0ab95\",\"type\":\"Circle\"},{\"attributes\":{\"dimension\":1,\"plot\":{\"id\":\"418f5cdc-a4ae-459a-9354-ddceba2576cb\",\"subtype\":\"Figure\",\"type\":\"Plot\"},\"ticker\":{\"id\":\"1eeae5ba-2281-4b97-ad76-7483f5c104b1\",\"type\":\"BasicTicker\"}},\"id\":\"a8399b2a-674d-4317-8294-6b94bcf1dfd2\",\"type\":\"Grid\"},{\"attributes\":{},\"id\":\"da8ab741-47e0-4df5-aa46-b1c36879900e\",\"type\":\"BasicTicker\"},{\"attributes\":{\"axis_label\":\"end\",\"formatter\":{\"id\":\"f47f7c7e-9a65-4e58-94b0-6511455268cf\",\"type\":\"BasicTickFormatter\"},\"plot\":{\"id\":\"418f5cdc-a4ae-459a-9354-ddceba2576cb\",\"subtype\":\"Figure\",\"type\":\"Plot\"},\"ticker\":{\"id\":\"da8ab741-47e0-4df5-aa46-b1c36879900e\",\"type\":\"BasicTicker\"}},\"id\":\"0bf896c3-a54e-4495-bacc-747310cf8220\",\"type\":\"LinearAxis\"},{\"attributes\":{},\"id\":\"c74be694-9ceb-4903-9ef5-2b14d83aa121\",\"type\":\"BasicTickFormatter\"},{\"attributes\":{\"plot\":{\"id\":\"418f5cdc-a4ae-459a-9354-ddceba2576cb\",\"subtype\":\"Figure\",\"type\":\"Plot\"},\"ticker\":{\"id\":\"da8ab741-47e0-4df5-aa46-b1c36879900e\",\"type\":\"BasicTicker\"}},\"id\":\"f6b47fd0-8604-4f6e-9c1a-4681147c9b9c\",\"type\":\"Grid\"},{\"attributes\":{\"source\":{\"id\":\"0420d60b-a59d-4f9e-b561-2aa6fd0fc3ed\",\"type\":\"ColumnDataSource\"}},\"id\":\"b4cf5ae9-43c7-454b-825a-1556e2801048\",\"type\":\"CDSView\"},{\"attributes\":{},\"id\":\"09510708-8d3b-4e75-9a71-765c60547d18\",\"type\":\"LinearScale\"},{\"attributes\":{\"axis_label\":\"nanoseconds\",\"formatter\":{\"id\":\"c74be694-9ceb-4903-9ef5-2b14d83aa121\",\"type\":\"BasicTickFormatter\"},\"plot\":{\"id\":\"418f5cdc-a4ae-459a-9354-ddceba2576cb\",\"subtype\":\"Figure\",\"type\":\"Plot\"},\"ticker\":{\"id\":\"1eeae5ba-2281-4b97-ad76-7483f5c104b1\",\"type\":\"BasicTicker\"}},\"id\":\"786af553-a07c-43be-8d65-ef161f10e3bf\",\"type\":\"LinearAxis\"},{\"attributes\":{\"callback\":null,\"column_names\":[\"x\",\"y\",\"names\"],\"data\":{\"names\":[\"start\",\"read\",\"filter\",\"measure\",\"tagging\",\"sort\",\"end\"],\"x\":[0,1,2,3,4,5,6],\"y\":{\"__ndarray__\":\"FkzgtwgRl0Asbuf02Q+PQDg8PDw8pHhAEFDJ1rtRdUCI8hrKa+h2QAAAAAAA4HZAAGeqIzG2dUA=\",\"dtype\":\"float64\",\"shape\":[7]}}},\"id\":\"0420d60b-a59d-4f9e-b561-2aa6fd0fc3ed\",\"type\":\"ColumnDataSource\"},{\"attributes\":{\"level\":\"glyph\",\"plot\":{\"id\":\"418f5cdc-a4ae-459a-9354-ddceba2576cb\",\"subtype\":\"Figure\",\"type\":\"Plot\"},\"source\":{\"id\":\"0420d60b-a59d-4f9e-b561-2aa6fd0fc3ed\",\"type\":\"ColumnDataSource\"},\"text\":{\"field\":\"names\"},\"x\":{\"field\":\"x\"},\"x_offset\":{\"value\":10},\"y\":{\"field\":\"y\"},\"y_offset\":{\"value\":-5}},\"id\":\"1a3eeac7-88dc-44bf-a62c-46d977ea5c71\",\"type\":\"LabelSet\"},{\"attributes\":{},\"id\":\"d90fd890-f8f5-4de8-8865-58d4866b9127\",\"type\":\"WheelZoomTool\"},{\"attributes\":{},\"id\":\"93ea65f7-14db-4585-9f1b-b29b6b323d1d\",\"type\":\"SaveTool\"},{\"attributes\":{\"overlay\":{\"id\":\"fdc25a18-3ade-44d9-ae5a-004f6f351f99\",\"type\":\"BoxAnnotation\"}},\"id\":\"6767563c-27d4-4cfe-8c00-07fef42121e8\",\"type\":\"BoxZoomTool\"},{\"attributes\":{},\"id\":\"9a85b0e6-46df-445c-9bc9-c91b51a7a998\",\"type\":\"ResetTool\"}],\"root_ids\":[\"418f5cdc-a4ae-459a-9354-ddceba2576cb\"]},\"title\":\"Bokeh Application\",\"version\":\"0.12.13\"}};\n",
       "  var render_items = [{\"docid\":\"c3beb4ee-f6ab-4de0-8bbd-2df3785af6c8\",\"elementid\":\"115ef640-04a9-41a9-b0a9-24dcb3c07718\",\"modelid\":\"418f5cdc-a4ae-459a-9354-ddceba2576cb\"}];\n",
       "  root.Bokeh.embed.embed_items_notebook(docs_json, render_items);\n",
       "\n",
       "  }\n",
       "  if (root.Bokeh !== undefined) {\n",
       "    embed_document(root);\n",
       "  } else {\n",
       "    var attempts = 0;\n",
       "    var timer = setInterval(function(root) {\n",
       "      if (root.Bokeh !== undefined) {\n",
       "        embed_document(root);\n",
       "        clearInterval(timer);\n",
       "      }\n",
       "      attempts++;\n",
       "      if (attempts > 100) {\n",
       "        console.log(\"Bokeh: ERROR: Unable to run BokehJS code because BokehJS library is missing\")\n",
       "        clearInterval(timer);\n",
       "      }\n",
       "    }, 10, root)\n",
       "  }\n",
       "})(window);"
      ],
      "application/vnd.bokehjs_exec.v0+json": ""
     },
     "metadata": {
      "application/vnd.bokehjs_exec.v0+json": {
       "id": "418f5cdc-a4ae-459a-9354-ddceba2576cb"
      }
     },
     "output_type": "display_data"
    }
   ],
   "source": [
    "plot(1)"
   ]
  },
  {
   "cell_type": "code",
   "execution_count": 17,
   "metadata": {},
   "outputs": [
    {
     "name": "stdout",
     "output_type": "stream",
     "text": [
      "mean total cost: 22171.627476882433\n",
      "[1208.2985469  2347.85733157 2728.29194188 3371.63804491 3728.76221929\n",
      " 4220.10964333 4566.66974901]\n",
      "[1208.2985469  1139.55878468  380.4346103   643.34610304  357.12417437\n",
      "  491.34742404  346.56010568]\n"
     ]
    },
    {
     "data": {
      "text/html": [
       "\n",
       "<div class=\"bk-root\">\n",
       "    <div class=\"bk-plotdiv\" id=\"eb2ccd48-151c-4538-9efb-93747cea3910\"></div>\n",
       "</div>"
      ]
     },
     "metadata": {},
     "output_type": "display_data"
    },
    {
     "data": {
      "application/javascript": [
       "(function(root) {\n",
       "  function embed_document(root) {\n",
       "    \n",
       "  var docs_json = {\"5b9aa18d-3a6f-4d34-89c8-6e3fa172acee\":{\"roots\":{\"references\":[{\"attributes\":{\"callback\":null},\"id\":\"201d389c-3669-421e-a8e9-1978f51e1feb\",\"type\":\"DataRange1d\"},{\"attributes\":{\"active_drag\":\"auto\",\"active_inspect\":\"auto\",\"active_scroll\":\"auto\",\"active_tap\":\"auto\",\"tools\":[{\"id\":\"b7c63751-95db-493e-8a38-9edf233b950f\",\"type\":\"PanTool\"},{\"id\":\"38eebb33-3228-43ab-837a-812cbbf7f3e5\",\"type\":\"WheelZoomTool\"},{\"id\":\"afe76b2f-a0a8-46e9-8601-75b75cf9d932\",\"type\":\"BoxZoomTool\"},{\"id\":\"617d896c-4a5d-4a1b-8df5-518bfe1110f7\",\"type\":\"SaveTool\"},{\"id\":\"977f9349-c734-43de-ac17-472d2b55d926\",\"type\":\"ResetTool\"},{\"id\":\"9a8b2f35-969c-4b9f-a69c-59d8ca02f6c0\",\"type\":\"HelpTool\"}]},\"id\":\"399d53f6-0e69-4fe2-a121-bbc6037f436b\",\"type\":\"Toolbar\"},{\"attributes\":{\"below\":[{\"id\":\"c0f4650b-1dde-4c4d-b7b4-5af588e5e7fd\",\"type\":\"LinearAxis\"}],\"left\":[{\"id\":\"8fb00990-14b7-4c8c-9085-1c47e0af13c2\",\"type\":\"LinearAxis\"}],\"renderers\":[{\"id\":\"c0f4650b-1dde-4c4d-b7b4-5af588e5e7fd\",\"type\":\"LinearAxis\"},{\"id\":\"b6d25cb3-5773-4ae8-b71a-e74bb04b09e7\",\"type\":\"Grid\"},{\"id\":\"8fb00990-14b7-4c8c-9085-1c47e0af13c2\",\"type\":\"LinearAxis\"},{\"id\":\"6dcd4048-1253-472f-b078-d13fbe933094\",\"type\":\"Grid\"},{\"id\":\"6b4be761-1424-4637-b8d7-c6012b052396\",\"type\":\"BoxAnnotation\"},{\"id\":\"c5032817-e9a1-4704-8871-4646d692dcce\",\"type\":\"GlyphRenderer\"},{\"id\":\"966c424e-ea75-40ba-8ab1-35c3c7529a4c\",\"type\":\"GlyphRenderer\"},{\"id\":\"5a26d026-b4a2-47cb-9f39-5796c2c53788\",\"type\":\"LabelSet\"}],\"title\":{\"id\":\"eb1b03b1-e368-4ca5-a1bc-bb14559fcf08\",\"type\":\"Title\"},\"toolbar\":{\"id\":\"399d53f6-0e69-4fe2-a121-bbc6037f436b\",\"type\":\"Toolbar\"},\"x_range\":{\"id\":\"201d389c-3669-421e-a8e9-1978f51e1feb\",\"type\":\"DataRange1d\"},\"x_scale\":{\"id\":\"b460b2bc-070d-4f7c-b04e-b6a440eed5eb\",\"type\":\"LinearScale\"},\"y_range\":{\"id\":\"c6f7fa65-3238-4f05-8aa2-2d9afc1aacc5\",\"type\":\"DataRange1d\"},\"y_scale\":{\"id\":\"7fcaa873-6841-44cc-8353-a5d59f784ef3\",\"type\":\"LinearScale\"}},\"id\":\"1163ff77-571c-4980-bc21-b1516c0acefd\",\"subtype\":\"Figure\",\"type\":\"Plot\"},{\"attributes\":{},\"id\":\"b460b2bc-070d-4f7c-b04e-b6a440eed5eb\",\"type\":\"LinearScale\"},{\"attributes\":{\"callback\":null},\"id\":\"c6f7fa65-3238-4f05-8aa2-2d9afc1aacc5\",\"type\":\"DataRange1d\"},{\"attributes\":{},\"id\":\"7fcaa873-6841-44cc-8353-a5d59f784ef3\",\"type\":\"LinearScale\"},{\"attributes\":{\"plot\":{\"id\":\"1163ff77-571c-4980-bc21-b1516c0acefd\",\"subtype\":\"Figure\",\"type\":\"Plot\"},\"ticker\":{\"id\":\"f24ac654-bbe1-4b0d-9ca0-c28885617fa3\",\"type\":\"BasicTicker\"}},\"id\":\"b6d25cb3-5773-4ae8-b71a-e74bb04b09e7\",\"type\":\"Grid\"},{\"attributes\":{\"axis_label\":\"end\",\"formatter\":{\"id\":\"d7380fc4-927c-4d6a-b47f-a846fa97249c\",\"type\":\"BasicTickFormatter\"},\"plot\":{\"id\":\"1163ff77-571c-4980-bc21-b1516c0acefd\",\"subtype\":\"Figure\",\"type\":\"Plot\"},\"ticker\":{\"id\":\"f24ac654-bbe1-4b0d-9ca0-c28885617fa3\",\"type\":\"BasicTicker\"}},\"id\":\"c0f4650b-1dde-4c4d-b7b4-5af588e5e7fd\",\"type\":\"LinearAxis\"},{\"attributes\":{},\"id\":\"f24ac654-bbe1-4b0d-9ca0-c28885617fa3\",\"type\":\"BasicTicker\"},{\"attributes\":{\"axis_label\":\"nanoseconds\",\"formatter\":{\"id\":\"b290a630-6a08-40c6-901b-730b57c4f9d1\",\"type\":\"BasicTickFormatter\"},\"plot\":{\"id\":\"1163ff77-571c-4980-bc21-b1516c0acefd\",\"subtype\":\"Figure\",\"type\":\"Plot\"},\"ticker\":{\"id\":\"cd0ed182-e2bd-4a81-bea4-41f5f6238d3c\",\"type\":\"BasicTicker\"}},\"id\":\"8fb00990-14b7-4c8c-9085-1c47e0af13c2\",\"type\":\"LinearAxis\"},{\"attributes\":{},\"id\":\"cd0ed182-e2bd-4a81-bea4-41f5f6238d3c\",\"type\":\"BasicTicker\"},{\"attributes\":{\"dimension\":1,\"plot\":{\"id\":\"1163ff77-571c-4980-bc21-b1516c0acefd\",\"subtype\":\"Figure\",\"type\":\"Plot\"},\"ticker\":{\"id\":\"cd0ed182-e2bd-4a81-bea4-41f5f6238d3c\",\"type\":\"BasicTicker\"}},\"id\":\"6dcd4048-1253-472f-b078-d13fbe933094\",\"type\":\"Grid\"},{\"attributes\":{\"plot\":null,\"text\":\"mean cost\"},\"id\":\"eb1b03b1-e368-4ca5-a1bc-bb14559fcf08\",\"type\":\"Title\"},{\"attributes\":{\"line_color\":\"#1f77b4\",\"x\":{\"field\":\"x\"},\"y\":{\"field\":\"y\"}},\"id\":\"412fe0b3-1554-48e9-875d-537dd6cad63f\",\"type\":\"Line\"},{\"attributes\":{},\"id\":\"b290a630-6a08-40c6-901b-730b57c4f9d1\",\"type\":\"BasicTickFormatter\"},{\"attributes\":{\"callback\":null,\"column_names\":[\"x\",\"y\",\"names\"],\"data\":{\"names\":[\"start\",\"read\",\"filter\",\"measure\",\"tagging\",\"sort\",\"end\"],\"x\":[0,1,2,3,4,5,6],\"y\":{\"__ndarray__\":\"ZQRHtjHhkkDJ2QwyPM6RQFgX7yn0xndArHSr0cQahEDQT0Se/FF2QHg2gwyPtX5AQLRfMfaodUA=\",\"dtype\":\"float64\",\"shape\":[7]}}},\"id\":\"93e1a58f-3fdf-4e68-bc71-67055a0efc25\",\"type\":\"ColumnDataSource\"},{\"attributes\":{\"bottom_units\":\"screen\",\"fill_alpha\":{\"value\":0.5},\"fill_color\":{\"value\":\"lightgrey\"},\"left_units\":\"screen\",\"level\":\"overlay\",\"line_alpha\":{\"value\":1.0},\"line_color\":{\"value\":\"black\"},\"line_dash\":[4,4],\"line_width\":{\"value\":2},\"plot\":null,\"render_mode\":\"css\",\"right_units\":\"screen\",\"top_units\":\"screen\"},\"id\":\"6b4be761-1424-4637-b8d7-c6012b052396\",\"type\":\"BoxAnnotation\"},{\"attributes\":{},\"id\":\"b7c63751-95db-493e-8a38-9edf233b950f\",\"type\":\"PanTool\"},{\"attributes\":{\"line_alpha\":0.1,\"line_color\":\"#1f77b4\",\"x\":{\"field\":\"x\"},\"y\":{\"field\":\"y\"}},\"id\":\"2eac3ed4-9e1c-47be-ad4b-bbe5b0c0c1c4\",\"type\":\"Line\"},{\"attributes\":{},\"id\":\"38eebb33-3228-43ab-837a-812cbbf7f3e5\",\"type\":\"WheelZoomTool\"},{\"attributes\":{\"overlay\":{\"id\":\"6b4be761-1424-4637-b8d7-c6012b052396\",\"type\":\"BoxAnnotation\"}},\"id\":\"afe76b2f-a0a8-46e9-8601-75b75cf9d932\",\"type\":\"BoxZoomTool\"},{\"attributes\":{},\"id\":\"617d896c-4a5d-4a1b-8df5-518bfe1110f7\",\"type\":\"SaveTool\"},{\"attributes\":{},\"id\":\"977f9349-c734-43de-ac17-472d2b55d926\",\"type\":\"ResetTool\"},{\"attributes\":{},\"id\":\"9a8b2f35-969c-4b9f-a69c-59d8ca02f6c0\",\"type\":\"HelpTool\"},{\"attributes\":{\"fill_color\":{\"value\":\"#1f77b4\"},\"line_color\":{\"value\":\"#1f77b4\"},\"x\":{\"field\":\"x\"},\"y\":{\"field\":\"y\"}},\"id\":\"8b868027-93fd-4241-b8a6-55635d2987a9\",\"type\":\"Circle\"},{\"attributes\":{\"data_source\":{\"id\":\"93e1a58f-3fdf-4e68-bc71-67055a0efc25\",\"type\":\"ColumnDataSource\"},\"glyph\":{\"id\":\"412fe0b3-1554-48e9-875d-537dd6cad63f\",\"type\":\"Line\"},\"hover_glyph\":null,\"muted_glyph\":null,\"nonselection_glyph\":{\"id\":\"2eac3ed4-9e1c-47be-ad4b-bbe5b0c0c1c4\",\"type\":\"Line\"},\"selection_glyph\":null,\"view\":{\"id\":\"af209e86-26ed-4463-a7a1-15a3f5156d0f\",\"type\":\"CDSView\"}},\"id\":\"c5032817-e9a1-4704-8871-4646d692dcce\",\"type\":\"GlyphRenderer\"},{\"attributes\":{\"source\":{\"id\":\"93e1a58f-3fdf-4e68-bc71-67055a0efc25\",\"type\":\"ColumnDataSource\"}},\"id\":\"af209e86-26ed-4463-a7a1-15a3f5156d0f\",\"type\":\"CDSView\"},{\"attributes\":{},\"id\":\"d7380fc4-927c-4d6a-b47f-a846fa97249c\",\"type\":\"BasicTickFormatter\"},{\"attributes\":{\"data_source\":{\"id\":\"93e1a58f-3fdf-4e68-bc71-67055a0efc25\",\"type\":\"ColumnDataSource\"},\"glyph\":{\"id\":\"8b868027-93fd-4241-b8a6-55635d2987a9\",\"type\":\"Circle\"},\"hover_glyph\":null,\"muted_glyph\":null,\"nonselection_glyph\":{\"id\":\"163a3368-cff8-474b-84cd-f939a926a6a2\",\"type\":\"Circle\"},\"selection_glyph\":null,\"view\":{\"id\":\"aefbca51-66d1-406a-852c-340d81cb1e4a\",\"type\":\"CDSView\"}},\"id\":\"966c424e-ea75-40ba-8ab1-35c3c7529a4c\",\"type\":\"GlyphRenderer\"},{\"attributes\":{\"level\":\"glyph\",\"plot\":{\"id\":\"1163ff77-571c-4980-bc21-b1516c0acefd\",\"subtype\":\"Figure\",\"type\":\"Plot\"},\"source\":{\"id\":\"93e1a58f-3fdf-4e68-bc71-67055a0efc25\",\"type\":\"ColumnDataSource\"},\"text\":{\"field\":\"names\"},\"x\":{\"field\":\"x\"},\"x_offset\":{\"value\":10},\"y\":{\"field\":\"y\"},\"y_offset\":{\"value\":-5}},\"id\":\"5a26d026-b4a2-47cb-9f39-5796c2c53788\",\"type\":\"LabelSet\"},{\"attributes\":{\"fill_alpha\":{\"value\":0.1},\"fill_color\":{\"value\":\"#1f77b4\"},\"line_alpha\":{\"value\":0.1},\"line_color\":{\"value\":\"#1f77b4\"},\"x\":{\"field\":\"x\"},\"y\":{\"field\":\"y\"}},\"id\":\"163a3368-cff8-474b-84cd-f939a926a6a2\",\"type\":\"Circle\"},{\"attributes\":{\"source\":{\"id\":\"93e1a58f-3fdf-4e68-bc71-67055a0efc25\",\"type\":\"ColumnDataSource\"}},\"id\":\"aefbca51-66d1-406a-852c-340d81cb1e4a\",\"type\":\"CDSView\"}],\"root_ids\":[\"1163ff77-571c-4980-bc21-b1516c0acefd\"]},\"title\":\"Bokeh Application\",\"version\":\"0.12.13\"}};\n",
       "  var render_items = [{\"docid\":\"5b9aa18d-3a6f-4d34-89c8-6e3fa172acee\",\"elementid\":\"eb2ccd48-151c-4538-9efb-93747cea3910\",\"modelid\":\"1163ff77-571c-4980-bc21-b1516c0acefd\"}];\n",
       "  root.Bokeh.embed.embed_items_notebook(docs_json, render_items);\n",
       "\n",
       "  }\n",
       "  if (root.Bokeh !== undefined) {\n",
       "    embed_document(root);\n",
       "  } else {\n",
       "    var attempts = 0;\n",
       "    var timer = setInterval(function(root) {\n",
       "      if (root.Bokeh !== undefined) {\n",
       "        embed_document(root);\n",
       "        clearInterval(timer);\n",
       "      }\n",
       "      attempts++;\n",
       "      if (attempts > 100) {\n",
       "        console.log(\"Bokeh: ERROR: Unable to run BokehJS code because BokehJS library is missing\")\n",
       "        clearInterval(timer);\n",
       "      }\n",
       "    }, 10, root)\n",
       "  }\n",
       "})(window);"
      ],
      "application/vnd.bokehjs_exec.v0+json": ""
     },
     "metadata": {
      "application/vnd.bokehjs_exec.v0+json": {
       "id": "1163ff77-571c-4980-bc21-b1516c0acefd"
      }
     },
     "output_type": "display_data"
    }
   ],
   "source": [
    "plot(2)"
   ]
  },
  {
   "cell_type": "markdown",
   "metadata": {
    "collapsed": true
   },
   "source": [
    "search_3.csv is produced using commit:\n",
    "6b1219ec0f24f23156d2434bcd2a626746f44387"
   ]
  },
  {
   "cell_type": "code",
   "execution_count": 18,
   "metadata": {},
   "outputs": [
    {
     "name": "stdout",
     "output_type": "stream",
     "text": [
      "mean total cost: 74031.06289978678\n",
      "[ 7547.13859275  7547.13859275  8000.52452026 10828.48827292\n",
      " 13027.85181237 13373.33049041 13706.59061834]\n",
      "[7547.13859275    0.          453.38592751 2827.96375267 2199.36353945\n",
      "  345.47867804  333.26012793]\n"
     ]
    },
    {
     "data": {
      "text/html": [
       "\n",
       "<div class=\"bk-root\">\n",
       "    <div class=\"bk-plotdiv\" id=\"cfadfe77-d958-4ab4-bb67-82c41d2df7ee\"></div>\n",
       "</div>"
      ]
     },
     "metadata": {},
     "output_type": "display_data"
    },
    {
     "data": {
      "application/javascript": [
       "(function(root) {\n",
       "  function embed_document(root) {\n",
       "    \n",
       "  var docs_json = {\"61dd8e3a-35dd-4275-8f36-1087c4082f80\":{\"roots\":{\"references\":[{\"attributes\":{\"data_source\":{\"id\":\"1f2c2b11-fc75-461d-a0ae-ede284f322f8\",\"type\":\"ColumnDataSource\"},\"glyph\":{\"id\":\"b68aa275-02fc-430e-8a1f-cd3966f8d1db\",\"type\":\"Line\"},\"hover_glyph\":null,\"muted_glyph\":null,\"nonselection_glyph\":{\"id\":\"f818e626-4e6f-49de-85f1-f338d2f7e23e\",\"type\":\"Line\"},\"selection_glyph\":null,\"view\":{\"id\":\"7d3f0a43-8e2e-4c42-a68f-2b2f73202dc5\",\"type\":\"CDSView\"}},\"id\":\"89135177-fbf1-429c-a911-80f2e8d7088a\",\"type\":\"GlyphRenderer\"},{\"attributes\":{},\"id\":\"663170e6-064a-49db-9823-a1c2c1230044\",\"type\":\"BasicTickFormatter\"},{\"attributes\":{},\"id\":\"c70a5ee1-8b1b-4e30-b3bc-c9fba8c1fe2f\",\"type\":\"BasicTicker\"},{\"attributes\":{\"fill_color\":{\"value\":\"#1f77b4\"},\"line_color\":{\"value\":\"#1f77b4\"},\"x\":{\"field\":\"x\"},\"y\":{\"field\":\"y\"}},\"id\":\"36f04a8f-c548-4291-9210-85e3f95783d2\",\"type\":\"Circle\"},{\"attributes\":{},\"id\":\"5f5d361f-0769-4a31-b3ee-fd209f27b3f2\",\"type\":\"BasicTickFormatter\"},{\"attributes\":{\"data_source\":{\"id\":\"1f2c2b11-fc75-461d-a0ae-ede284f322f8\",\"type\":\"ColumnDataSource\"},\"glyph\":{\"id\":\"36f04a8f-c548-4291-9210-85e3f95783d2\",\"type\":\"Circle\"},\"hover_glyph\":null,\"muted_glyph\":null,\"nonselection_glyph\":{\"id\":\"8f9003d7-7dc6-4379-a216-0626cfcbd303\",\"type\":\"Circle\"},\"selection_glyph\":null,\"view\":{\"id\":\"d4227492-2131-4740-bcf9-9369c75ba968\",\"type\":\"CDSView\"}},\"id\":\"84365fc3-019f-4370-90c3-87561bec7c3d\",\"type\":\"GlyphRenderer\"},{\"attributes\":{\"level\":\"glyph\",\"plot\":{\"id\":\"e01c46d3-8f5c-43bc-8ef3-e23b7bcffaf9\",\"subtype\":\"Figure\",\"type\":\"Plot\"},\"source\":{\"id\":\"1f2c2b11-fc75-461d-a0ae-ede284f322f8\",\"type\":\"ColumnDataSource\"},\"text\":{\"field\":\"names\"},\"x\":{\"field\":\"x\"},\"x_offset\":{\"value\":10},\"y\":{\"field\":\"y\"},\"y_offset\":{\"value\":-5}},\"id\":\"2615171f-50d2-4cdf-9adf-c85cf7012382\",\"type\":\"LabelSet\"},{\"attributes\":{\"plot\":null,\"text\":\"mean cost\"},\"id\":\"2bb63145-21af-4657-85fc-2c85cfee0727\",\"type\":\"Title\"},{\"attributes\":{\"fill_alpha\":{\"value\":0.1},\"fill_color\":{\"value\":\"#1f77b4\"},\"line_alpha\":{\"value\":0.1},\"line_color\":{\"value\":\"#1f77b4\"},\"x\":{\"field\":\"x\"},\"y\":{\"field\":\"y\"}},\"id\":\"8f9003d7-7dc6-4379-a216-0626cfcbd303\",\"type\":\"Circle\"},{\"attributes\":{\"source\":{\"id\":\"1f2c2b11-fc75-461d-a0ae-ede284f322f8\",\"type\":\"ColumnDataSource\"}},\"id\":\"d4227492-2131-4740-bcf9-9369c75ba968\",\"type\":\"CDSView\"},{\"attributes\":{\"line_color\":\"#1f77b4\",\"x\":{\"field\":\"x\"},\"y\":{\"field\":\"y\"}},\"id\":\"b68aa275-02fc-430e-8a1f-cd3966f8d1db\",\"type\":\"Line\"},{\"attributes\":{\"active_drag\":\"auto\",\"active_inspect\":\"auto\",\"active_scroll\":\"auto\",\"active_tap\":\"auto\",\"tools\":[{\"id\":\"e9688a13-5df2-44ab-803a-eda3e77f4361\",\"type\":\"PanTool\"},{\"id\":\"a5bdfcc2-0a5d-47b6-9ca4-9dadd992c0d2\",\"type\":\"WheelZoomTool\"},{\"id\":\"ca60a5d7-bfa0-47dd-9926-a5ada9ebddd4\",\"type\":\"BoxZoomTool\"},{\"id\":\"8c82be12-6bfa-4b9c-870c-7976555cc6fd\",\"type\":\"SaveTool\"},{\"id\":\"a152d815-c553-4ddc-82f6-ec1498a41005\",\"type\":\"ResetTool\"},{\"id\":\"ec3491e6-f6a0-42f5-8e03-28bf72695ea2\",\"type\":\"HelpTool\"}]},\"id\":\"ba2792a0-e5a4-4b52-af82-067c75209ef2\",\"type\":\"Toolbar\"},{\"attributes\":{},\"id\":\"a1de7c04-dab5-49f0-a381-afd2770b52dd\",\"type\":\"LinearScale\"},{\"attributes\":{\"plot\":{\"id\":\"e01c46d3-8f5c-43bc-8ef3-e23b7bcffaf9\",\"subtype\":\"Figure\",\"type\":\"Plot\"},\"ticker\":{\"id\":\"c70a5ee1-8b1b-4e30-b3bc-c9fba8c1fe2f\",\"type\":\"BasicTicker\"}},\"id\":\"4c1b7efb-0259-492c-a1e9-4d33bebe8cd7\",\"type\":\"Grid\"},{\"attributes\":{},\"id\":\"e9688a13-5df2-44ab-803a-eda3e77f4361\",\"type\":\"PanTool\"},{\"attributes\":{\"callback\":null},\"id\":\"f1703bbe-e612-49ac-b50f-fc609e0490c1\",\"type\":\"DataRange1d\"},{\"attributes\":{},\"id\":\"8c82be12-6bfa-4b9c-870c-7976555cc6fd\",\"type\":\"SaveTool\"},{\"attributes\":{\"axis_label\":\"nanoseconds\",\"formatter\":{\"id\":\"5f5d361f-0769-4a31-b3ee-fd209f27b3f2\",\"type\":\"BasicTickFormatter\"},\"plot\":{\"id\":\"e01c46d3-8f5c-43bc-8ef3-e23b7bcffaf9\",\"subtype\":\"Figure\",\"type\":\"Plot\"},\"ticker\":{\"id\":\"aa881140-4248-421b-93b0-b254f38d416d\",\"type\":\"BasicTicker\"}},\"id\":\"5c0ca4e1-3c47-4c6c-a2a4-96821943ef79\",\"type\":\"LinearAxis\"},{\"attributes\":{\"source\":{\"id\":\"1f2c2b11-fc75-461d-a0ae-ede284f322f8\",\"type\":\"ColumnDataSource\"}},\"id\":\"7d3f0a43-8e2e-4c42-a68f-2b2f73202dc5\",\"type\":\"CDSView\"},{\"attributes\":{},\"id\":\"a152d815-c553-4ddc-82f6-ec1498a41005\",\"type\":\"ResetTool\"},{\"attributes\":{\"overlay\":{\"id\":\"a2e15d76-5fee-484e-9d3c-bc5d37e5e7cc\",\"type\":\"BoxAnnotation\"}},\"id\":\"ca60a5d7-bfa0-47dd-9926-a5ada9ebddd4\",\"type\":\"BoxZoomTool\"},{\"attributes\":{\"bottom_units\":\"screen\",\"fill_alpha\":{\"value\":0.5},\"fill_color\":{\"value\":\"lightgrey\"},\"left_units\":\"screen\",\"level\":\"overlay\",\"line_alpha\":{\"value\":1.0},\"line_color\":{\"value\":\"black\"},\"line_dash\":[4,4],\"line_width\":{\"value\":2},\"plot\":null,\"render_mode\":\"css\",\"right_units\":\"screen\",\"top_units\":\"screen\"},\"id\":\"a2e15d76-5fee-484e-9d3c-bc5d37e5e7cc\",\"type\":\"BoxAnnotation\"},{\"attributes\":{\"callback\":null,\"column_names\":[\"x\",\"y\",\"names\"],\"data\":{\"names\":[\"start\",\"read\",\"filter\",\"measure\",\"tagging\",\"sort\",\"end\"],\"x\":[0,1,2,3,4,5,6],\"y\":{\"__ndarray__\":\"AYPQeiN7vUAAAAAAAAAAAFDgUcIsVnxAVEX9cO0XpkCQm9chui6hQGCCTaqol3VAoPvneynUdEA=\",\"dtype\":\"float64\",\"shape\":[7]}}},\"id\":\"1f2c2b11-fc75-461d-a0ae-ede284f322f8\",\"type\":\"ColumnDataSource\"},{\"attributes\":{\"axis_label\":\"end\",\"formatter\":{\"id\":\"663170e6-064a-49db-9823-a1c2c1230044\",\"type\":\"BasicTickFormatter\"},\"plot\":{\"id\":\"e01c46d3-8f5c-43bc-8ef3-e23b7bcffaf9\",\"subtype\":\"Figure\",\"type\":\"Plot\"},\"ticker\":{\"id\":\"c70a5ee1-8b1b-4e30-b3bc-c9fba8c1fe2f\",\"type\":\"BasicTicker\"}},\"id\":\"6753192d-03cb-4923-905d-3b9f91dc09f9\",\"type\":\"LinearAxis\"},{\"attributes\":{},\"id\":\"aa881140-4248-421b-93b0-b254f38d416d\",\"type\":\"BasicTicker\"},{\"attributes\":{},\"id\":\"a5bdfcc2-0a5d-47b6-9ca4-9dadd992c0d2\",\"type\":\"WheelZoomTool\"},{\"attributes\":{},\"id\":\"ec3491e6-f6a0-42f5-8e03-28bf72695ea2\",\"type\":\"HelpTool\"},{\"attributes\":{\"callback\":null},\"id\":\"8e195b9f-e878-47e9-b723-b266d037a90b\",\"type\":\"DataRange1d\"},{\"attributes\":{},\"id\":\"184e95a2-0684-4511-8495-1a927bf69004\",\"type\":\"LinearScale\"},{\"attributes\":{\"below\":[{\"id\":\"6753192d-03cb-4923-905d-3b9f91dc09f9\",\"type\":\"LinearAxis\"}],\"left\":[{\"id\":\"5c0ca4e1-3c47-4c6c-a2a4-96821943ef79\",\"type\":\"LinearAxis\"}],\"renderers\":[{\"id\":\"6753192d-03cb-4923-905d-3b9f91dc09f9\",\"type\":\"LinearAxis\"},{\"id\":\"4c1b7efb-0259-492c-a1e9-4d33bebe8cd7\",\"type\":\"Grid\"},{\"id\":\"5c0ca4e1-3c47-4c6c-a2a4-96821943ef79\",\"type\":\"LinearAxis\"},{\"id\":\"2ca11d26-bdca-4018-87b2-bef08e5f52f2\",\"type\":\"Grid\"},{\"id\":\"a2e15d76-5fee-484e-9d3c-bc5d37e5e7cc\",\"type\":\"BoxAnnotation\"},{\"id\":\"89135177-fbf1-429c-a911-80f2e8d7088a\",\"type\":\"GlyphRenderer\"},{\"id\":\"84365fc3-019f-4370-90c3-87561bec7c3d\",\"type\":\"GlyphRenderer\"},{\"id\":\"2615171f-50d2-4cdf-9adf-c85cf7012382\",\"type\":\"LabelSet\"}],\"title\":{\"id\":\"2bb63145-21af-4657-85fc-2c85cfee0727\",\"type\":\"Title\"},\"toolbar\":{\"id\":\"ba2792a0-e5a4-4b52-af82-067c75209ef2\",\"type\":\"Toolbar\"},\"x_range\":{\"id\":\"8e195b9f-e878-47e9-b723-b266d037a90b\",\"type\":\"DataRange1d\"},\"x_scale\":{\"id\":\"a1de7c04-dab5-49f0-a381-afd2770b52dd\",\"type\":\"LinearScale\"},\"y_range\":{\"id\":\"f1703bbe-e612-49ac-b50f-fc609e0490c1\",\"type\":\"DataRange1d\"},\"y_scale\":{\"id\":\"184e95a2-0684-4511-8495-1a927bf69004\",\"type\":\"LinearScale\"}},\"id\":\"e01c46d3-8f5c-43bc-8ef3-e23b7bcffaf9\",\"subtype\":\"Figure\",\"type\":\"Plot\"},{\"attributes\":{\"dimension\":1,\"plot\":{\"id\":\"e01c46d3-8f5c-43bc-8ef3-e23b7bcffaf9\",\"subtype\":\"Figure\",\"type\":\"Plot\"},\"ticker\":{\"id\":\"aa881140-4248-421b-93b0-b254f38d416d\",\"type\":\"BasicTicker\"}},\"id\":\"2ca11d26-bdca-4018-87b2-bef08e5f52f2\",\"type\":\"Grid\"},{\"attributes\":{\"line_alpha\":0.1,\"line_color\":\"#1f77b4\",\"x\":{\"field\":\"x\"},\"y\":{\"field\":\"y\"}},\"id\":\"f818e626-4e6f-49de-85f1-f338d2f7e23e\",\"type\":\"Line\"}],\"root_ids\":[\"e01c46d3-8f5c-43bc-8ef3-e23b7bcffaf9\"]},\"title\":\"Bokeh Application\",\"version\":\"0.12.13\"}};\n",
       "  var render_items = [{\"docid\":\"61dd8e3a-35dd-4275-8f36-1087c4082f80\",\"elementid\":\"cfadfe77-d958-4ab4-bb67-82c41d2df7ee\",\"modelid\":\"e01c46d3-8f5c-43bc-8ef3-e23b7bcffaf9\"}];\n",
       "  root.Bokeh.embed.embed_items_notebook(docs_json, render_items);\n",
       "\n",
       "  }\n",
       "  if (root.Bokeh !== undefined) {\n",
       "    embed_document(root);\n",
       "  } else {\n",
       "    var attempts = 0;\n",
       "    var timer = setInterval(function(root) {\n",
       "      if (root.Bokeh !== undefined) {\n",
       "        embed_document(root);\n",
       "        clearInterval(timer);\n",
       "      }\n",
       "      attempts++;\n",
       "      if (attempts > 100) {\n",
       "        console.log(\"Bokeh: ERROR: Unable to run BokehJS code because BokehJS library is missing\")\n",
       "        clearInterval(timer);\n",
       "      }\n",
       "    }, 10, root)\n",
       "  }\n",
       "})(window);"
      ],
      "application/vnd.bokehjs_exec.v0+json": ""
     },
     "metadata": {
      "application/vnd.bokehjs_exec.v0+json": {
       "id": "e01c46d3-8f5c-43bc-8ef3-e23b7bcffaf9"
      }
     },
     "output_type": "display_data"
    }
   ],
   "source": [
    "plot(3)"
   ]
  },
  {
   "cell_type": "code",
   "execution_count": 49,
   "metadata": {
    "collapsed": true
   },
   "outputs": [],
   "source": [
    "def plot_total(suffix):\n",
    "    data = pd.read_csv(f'/home/incomplete/project/doc-browser/prof/search_{suffix}.csv')\n",
    "    col_names = [x.strip() for x in data.columns.tolist()]\n",
    "    print(data.describe())\n",
    "    vs = data.values\n",
    "    times = vs[:, -1]\n",
    "    hist, edges = np.histogram(times, density=True, bins=50)\n",
    "    \n",
    "    fig = plotting.figure(title='total cost dist')\n",
    "\n",
    "    fig.quad(top=hist, bottom=0, left=edges[:-1], right=edges[1:],\n",
    "             fill_color=\"blue\", line_color=\"red\")\n",
    "    plotting.show(fig)"
   ]
  },
  {
   "cell_type": "code",
   "execution_count": 50,
   "metadata": {},
   "outputs": [
    {
     "name": "stdout",
     "output_type": "stream",
     "text": [
      "          length        start         read          filter       measure   \\\n",
      "count  938.000000  9.380000e+02  9.380000e+02  9.380000e+02  9.380000e+02   \n",
      "mean    11.073561  7.547139e+03  7.547139e+03  8.000525e+03  1.082849e+04   \n",
      "std      8.298328  1.744283e+05  1.744283e+05  1.744601e+05  1.899895e+05   \n",
      "min      1.000000  1.630000e+02  1.630000e+02  3.600000e+02  5.410000e+02   \n",
      "25%      5.000000  3.900000e+02  3.900000e+02  6.320000e+02  8.270000e+02   \n",
      "50%      9.000000  4.360000e+02  4.360000e+02  6.700000e+02  8.810000e+02   \n",
      "75%     16.000000  5.767500e+02  5.767500e+02  8.940000e+02  1.203250e+03   \n",
      "max     43.000000  5.309482e+06  5.309482e+06  5.310480e+06  5.310986e+06   \n",
      "\n",
      "           tagging        sort              end  \n",
      "count  9.380000e+02  9.380000e+02  9.380000e+02  \n",
      "mean   1.302785e+04  1.337333e+04  1.370659e+04  \n",
      "std    1.979059e+05  1.979182e+05  1.979302e+05  \n",
      "min    7.100000e+02  8.730000e+02  1.044000e+03  \n",
      "25%    1.023250e+03  1.215000e+03  1.404000e+03  \n",
      "50%    1.087000e+03  1.306500e+03  1.540000e+03  \n",
      "75%    1.474000e+03  1.779000e+03  2.028000e+03  \n",
      "max    5.311322e+06  5.311713e+06  5.312060e+06  \n"
     ]
    },
    {
     "data": {
      "text/html": [
       "\n",
       "<div class=\"bk-root\">\n",
       "    <div class=\"bk-plotdiv\" id=\"4bcd0182-71fd-4d17-9036-42977c92d6ab\"></div>\n",
       "</div>"
      ]
     },
     "metadata": {},
     "output_type": "display_data"
    },
    {
     "data": {
      "application/javascript": [
       "(function(root) {\n",
       "  function embed_document(root) {\n",
       "    \n",
       "  var docs_json = {\"c6ef7a26-fe13-4276-87b8-408481d5ad01\":{\"roots\":{\"references\":[{\"attributes\":{},\"id\":\"3359c34c-842c-4606-ab01-e3eba16840e6\",\"type\":\"PanTool\"},{\"attributes\":{\"active_drag\":\"auto\",\"active_inspect\":\"auto\",\"active_scroll\":\"auto\",\"active_tap\":\"auto\",\"tools\":[{\"id\":\"3359c34c-842c-4606-ab01-e3eba16840e6\",\"type\":\"PanTool\"},{\"id\":\"9c655249-332e-4960-bfda-c71df0a45fba\",\"type\":\"WheelZoomTool\"},{\"id\":\"dcb489aa-de75-4ffb-a550-d5773d5d66e8\",\"type\":\"BoxZoomTool\"},{\"id\":\"3e3a7921-2ccb-4581-88e5-ee104d246f61\",\"type\":\"SaveTool\"},{\"id\":\"304a7862-dab8-447b-8aa6-292caf6e5131\",\"type\":\"ResetTool\"},{\"id\":\"7ba1c70b-2cdc-41bb-b3ef-e863de9a538f\",\"type\":\"HelpTool\"}]},\"id\":\"c418411a-c305-4082-ba22-bdcd8fc4559d\",\"type\":\"Toolbar\"},{\"attributes\":{\"callback\":null},\"id\":\"f70fb058-7ce6-4396-993f-b6468904603b\",\"type\":\"DataRange1d\"},{\"attributes\":{},\"id\":\"83082e46-ea04-45d8-9725-912d8f252ddb\",\"type\":\"BasicTickFormatter\"},{\"attributes\":{\"formatter\":{\"id\":\"83082e46-ea04-45d8-9725-912d8f252ddb\",\"type\":\"BasicTickFormatter\"},\"plot\":{\"id\":\"822ec988-8363-42cf-9ed2-072aa5662008\",\"subtype\":\"Figure\",\"type\":\"Plot\"},\"ticker\":{\"id\":\"ac2c8ff4-0601-482b-bd4b-223d14a2a8c0\",\"type\":\"BasicTicker\"}},\"id\":\"1c65915c-7d99-4727-b98d-92a0f4857e79\",\"type\":\"LinearAxis\"},{\"attributes\":{},\"id\":\"9c655249-332e-4960-bfda-c71df0a45fba\",\"type\":\"WheelZoomTool\"},{\"attributes\":{},\"id\":\"e2ef2565-514b-4377-ad1d-2de7c3520d61\",\"type\":\"BasicTicker\"},{\"attributes\":{\"dimension\":1,\"plot\":{\"id\":\"822ec988-8363-42cf-9ed2-072aa5662008\",\"subtype\":\"Figure\",\"type\":\"Plot\"},\"ticker\":{\"id\":\"e2ef2565-514b-4377-ad1d-2de7c3520d61\",\"type\":\"BasicTicker\"}},\"id\":\"104ae6a4-f6f5-4d00-8e47-66dbef03ee55\",\"type\":\"Grid\"},{\"attributes\":{},\"id\":\"13daedae-ca6c-4b6d-8c5d-6928358b01ad\",\"type\":\"LinearScale\"},{\"attributes\":{\"plot\":{\"id\":\"822ec988-8363-42cf-9ed2-072aa5662008\",\"subtype\":\"Figure\",\"type\":\"Plot\"},\"ticker\":{\"id\":\"ac2c8ff4-0601-482b-bd4b-223d14a2a8c0\",\"type\":\"BasicTicker\"}},\"id\":\"c218b997-2535-456b-8a65-1226c742e24a\",\"type\":\"Grid\"},{\"attributes\":{\"formatter\":{\"id\":\"40350670-b90d-4630-b10e-35b68fe977cd\",\"type\":\"BasicTickFormatter\"},\"plot\":{\"id\":\"822ec988-8363-42cf-9ed2-072aa5662008\",\"subtype\":\"Figure\",\"type\":\"Plot\"},\"ticker\":{\"id\":\"e2ef2565-514b-4377-ad1d-2de7c3520d61\",\"type\":\"BasicTicker\"}},\"id\":\"46dc004a-4c8c-4de7-ab3f-65d478d4e425\",\"type\":\"LinearAxis\"},{\"attributes\":{\"callback\":null},\"id\":\"cb187c2f-9a33-46df-b8f7-72fe3220f4ca\",\"type\":\"DataRange1d\"},{\"attributes\":{\"bottom_units\":\"screen\",\"fill_alpha\":{\"value\":0.5},\"fill_color\":{\"value\":\"lightgrey\"},\"left_units\":\"screen\",\"level\":\"overlay\",\"line_alpha\":{\"value\":1.0},\"line_color\":{\"value\":\"black\"},\"line_dash\":[4,4],\"line_width\":{\"value\":2},\"plot\":null,\"render_mode\":\"css\",\"right_units\":\"screen\",\"top_units\":\"screen\"},\"id\":\"3dd1d3b8-6e14-455f-87d2-b6b1e4858b51\",\"type\":\"BoxAnnotation\"},{\"attributes\":{},\"id\":\"2572ce4d-4809-4b91-9742-70a5771e0bcc\",\"type\":\"LinearScale\"},{\"attributes\":{\"bottom\":{\"value\":0},\"fill_color\":{\"value\":\"blue\"},\"left\":{\"field\":\"left\"},\"line_color\":{\"value\":\"red\"},\"right\":{\"field\":\"right\"},\"top\":{\"field\":\"top\"}},\"id\":\"38b9b775-4a81-4d0f-84d3-706b2a158892\",\"type\":\"Quad\"},{\"attributes\":{},\"id\":\"ac2c8ff4-0601-482b-bd4b-223d14a2a8c0\",\"type\":\"BasicTicker\"},{\"attributes\":{\"overlay\":{\"id\":\"3dd1d3b8-6e14-455f-87d2-b6b1e4858b51\",\"type\":\"BoxAnnotation\"}},\"id\":\"dcb489aa-de75-4ffb-a550-d5773d5d66e8\",\"type\":\"BoxZoomTool\"},{\"attributes\":{\"plot\":null,\"text\":\"total cost dist\"},\"id\":\"72d579f2-5107-4221-a89e-8d1b3aeddd83\",\"type\":\"Title\"},{\"attributes\":{\"data_source\":{\"id\":\"fff9741b-b3ff-4e41-989a-cdab6754f0ff\",\"type\":\"ColumnDataSource\"},\"glyph\":{\"id\":\"38b9b775-4a81-4d0f-84d3-706b2a158892\",\"type\":\"Quad\"},\"hover_glyph\":null,\"muted_glyph\":null,\"nonselection_glyph\":{\"id\":\"472fd620-a516-4cc4-941c-d8aace02f84a\",\"type\":\"Quad\"},\"selection_glyph\":null,\"view\":{\"id\":\"98f1361c-2d49-47e4-9c44-54b96720180a\",\"type\":\"CDSView\"}},\"id\":\"a8928045-c3fa-456b-b5be-052c9814f472\",\"type\":\"GlyphRenderer\"},{\"attributes\":{\"below\":[{\"id\":\"1c65915c-7d99-4727-b98d-92a0f4857e79\",\"type\":\"LinearAxis\"}],\"left\":[{\"id\":\"46dc004a-4c8c-4de7-ab3f-65d478d4e425\",\"type\":\"LinearAxis\"}],\"renderers\":[{\"id\":\"1c65915c-7d99-4727-b98d-92a0f4857e79\",\"type\":\"LinearAxis\"},{\"id\":\"c218b997-2535-456b-8a65-1226c742e24a\",\"type\":\"Grid\"},{\"id\":\"46dc004a-4c8c-4de7-ab3f-65d478d4e425\",\"type\":\"LinearAxis\"},{\"id\":\"104ae6a4-f6f5-4d00-8e47-66dbef03ee55\",\"type\":\"Grid\"},{\"id\":\"3dd1d3b8-6e14-455f-87d2-b6b1e4858b51\",\"type\":\"BoxAnnotation\"},{\"id\":\"a8928045-c3fa-456b-b5be-052c9814f472\",\"type\":\"GlyphRenderer\"}],\"title\":{\"id\":\"72d579f2-5107-4221-a89e-8d1b3aeddd83\",\"type\":\"Title\"},\"toolbar\":{\"id\":\"c418411a-c305-4082-ba22-bdcd8fc4559d\",\"type\":\"Toolbar\"},\"x_range\":{\"id\":\"cb187c2f-9a33-46df-b8f7-72fe3220f4ca\",\"type\":\"DataRange1d\"},\"x_scale\":{\"id\":\"2572ce4d-4809-4b91-9742-70a5771e0bcc\",\"type\":\"LinearScale\"},\"y_range\":{\"id\":\"f70fb058-7ce6-4396-993f-b6468904603b\",\"type\":\"DataRange1d\"},\"y_scale\":{\"id\":\"13daedae-ca6c-4b6d-8c5d-6928358b01ad\",\"type\":\"LinearScale\"}},\"id\":\"822ec988-8363-42cf-9ed2-072aa5662008\",\"subtype\":\"Figure\",\"type\":\"Plot\"},{\"attributes\":{},\"id\":\"40350670-b90d-4630-b10e-35b68fe977cd\",\"type\":\"BasicTickFormatter\"},{\"attributes\":{\"source\":{\"id\":\"fff9741b-b3ff-4e41-989a-cdab6754f0ff\",\"type\":\"ColumnDataSource\"}},\"id\":\"98f1361c-2d49-47e4-9c44-54b96720180a\",\"type\":\"CDSView\"},{\"attributes\":{},\"id\":\"7ba1c70b-2cdc-41bb-b3ef-e863de9a538f\",\"type\":\"HelpTool\"},{\"attributes\":{\"bottom\":{\"value\":0},\"fill_alpha\":{\"value\":0.1},\"fill_color\":{\"value\":\"#1f77b4\"},\"left\":{\"field\":\"left\"},\"line_alpha\":{\"value\":0.1},\"line_color\":{\"value\":\"#1f77b4\"},\"right\":{\"field\":\"right\"},\"top\":{\"field\":\"top\"}},\"id\":\"472fd620-a516-4cc4-941c-d8aace02f84a\",\"type\":\"Quad\"},{\"attributes\":{},\"id\":\"304a7862-dab8-447b-8aa6-292caf6e5131\",\"type\":\"ResetTool\"},{\"attributes\":{},\"id\":\"3e3a7921-2ccb-4581-88e5-ee104d246f61\",\"type\":\"SaveTool\"},{\"attributes\":{\"callback\":null,\"column_names\":[\"left\",\"right\",\"top\"],\"data\":{\"left\":{\"__ndarray__\":\"AAAAAABQkEDsUbgeBTD6QOxRuB5lDwpBcT0K12ODE0HsUbgeFf8ZQTQzMzNjPSBBcT0K1zt7I0GuR+F6FLkmQexRuB7t9ilBKlyPwsU0LUE0MzMzTzkwQVK4HoU72DFBcT0K1yd3M0GQwvUoFBY1Qa5H4XoAtTZBzczMzOxTOEHsUbge2fI5QQvXo3DFkTtBKlyPwrEwPUFI4XoUns8+QTQzMzNFN0BBw/UoXLsGQUFSuB6FMdZBQeJ6FK6npUJBcT0K1x11Q0EAAAAAlEREQZDC9SgKFEVBH4XrUYDjRUGuR+F69rJGQT4K16NsgkdBzczMzOJRSEFdj8L1WCFJQexRuB7P8ElBexSuR0XASkEL16Nwu49LQZqZmZkxX0xBKlyPwqcuTUG5HoXrHf5NQUjhehSUzU5B2KNwPQqdT0E0MzMzQDZQQXsUrkf7nVBBw/UoXLYFUUEL16NwcW1RQVK4HoUs1VFBmpmZmec8UkHiehSuoqRSQSlcj8JdDFNBcT0K1xh0U0G5HoXr09tTQQ==\",\"dtype\":\"float64\",\"shape\":[50]},\"right\":{\"__ndarray__\":\"7FG4HgUw+kDsUbgeZQ8KQXE9CtdjgxNB7FG4HhX/GUE0MzMzYz0gQXE9Ctc7eyNBrkfhehS5JkHsUbge7fYpQSpcj8LFNC1BNDMzM085MEFSuB6FO9gxQXE9CtcndzNBkML1KBQWNUGuR+F6ALU2Qc3MzMzsUzhB7FG4HtnyOUEL16NwxZE7QSpcj8KxMD1BSOF6FJ7PPkE0MzMzRTdAQcP1KFy7BkFBUrgehTHWQUHiehSup6VCQXE9CtcddUNBAAAAAJREREGQwvUoChRFQR+F61GA40VBrkfhevayRkE+CtejbIJHQc3MzMziUUhBXY/C9VghSUHsUbgez/BJQXsUrkdFwEpBC9ejcLuPS0GamZmZMV9MQSpcj8KnLk1BuR6F6x3+TUFI4XoUlM1OQdijcD0KnU9BNDMzM0A2UEF7FK5H+51QQcP1KFy2BVFBC9ejcHFtUUFSuB6FLNVRQZqZmZnnPFJB4noUrqKkUkEpXI/CXQxTQXE9CtcYdFNBuR6F69PbU0EAAAAAj0NUQQ==\",\"dtype\":\"float64\",\"shape\":[50]},\"top\":{\"__ndarray__\":\"pYgd9fud4z5NBzJwt41FPgAAAAAAAAAATQcycLeNRT5KBzJwt41FPgAAAAAAAAAAAAAAAAAAAAAAAAAAAAAAAAAAAAAAAAAAAAAAAAAAAAAAAAAAAAAAAAAAAAAAAAAAAAAAAAAAAAAAAAAAAAAAAAAAAAAAAAAAAAAAAAAAAABKBzJwt41FPgAAAAAAAAAAAAAAAAAAAAAAAAAAAAAAAAAAAAAAAAAAVwcycLeNRT4AAAAAAAAAAAAAAAAAAAAAAAAAAAAAAAAAAAAAAAAAAAAAAAAAAAAAAAAAAAAAAAAAAAAAAAAAAAAAAAAAAAAAAAAAAAAAAAAAAAAAAAAAAAAAAAAAAAAAAAAAAAAAAAAAAAAAAAAAAAAAAAAAAAAAAAAAAAAAAAAAAAAAAAAAAAAAAAAAAAAAAAAAAAAAAAAAAAAAAAAAAAAAAAAAAAAAAAAAAAAAAAAAAAAAAAAAAAAAAAAAAAAAAAAAAAAAAAAAAAAAAAAAAAAAAAAAAAAAAAAAAAAAAAByBzJwt41FPg==\",\"dtype\":\"float64\",\"shape\":[50]}}},\"id\":\"fff9741b-b3ff-4e41-989a-cdab6754f0ff\",\"type\":\"ColumnDataSource\"}],\"root_ids\":[\"822ec988-8363-42cf-9ed2-072aa5662008\"]},\"title\":\"Bokeh Application\",\"version\":\"0.12.13\"}};\n",
       "  var render_items = [{\"docid\":\"c6ef7a26-fe13-4276-87b8-408481d5ad01\",\"elementid\":\"4bcd0182-71fd-4d17-9036-42977c92d6ab\",\"modelid\":\"822ec988-8363-42cf-9ed2-072aa5662008\"}];\n",
       "  root.Bokeh.embed.embed_items_notebook(docs_json, render_items);\n",
       "\n",
       "  }\n",
       "  if (root.Bokeh !== undefined) {\n",
       "    embed_document(root);\n",
       "  } else {\n",
       "    var attempts = 0;\n",
       "    var timer = setInterval(function(root) {\n",
       "      if (root.Bokeh !== undefined) {\n",
       "        embed_document(root);\n",
       "        clearInterval(timer);\n",
       "      }\n",
       "      attempts++;\n",
       "      if (attempts > 100) {\n",
       "        console.log(\"Bokeh: ERROR: Unable to run BokehJS code because BokehJS library is missing\")\n",
       "        clearInterval(timer);\n",
       "      }\n",
       "    }, 10, root)\n",
       "  }\n",
       "})(window);"
      ],
      "application/vnd.bokehjs_exec.v0+json": ""
     },
     "metadata": {
      "application/vnd.bokehjs_exec.v0+json": {
       "id": "822ec988-8363-42cf-9ed2-072aa5662008"
      }
     },
     "output_type": "display_data"
    }
   ],
   "source": [
    "plot_total(3)"
   ]
  },
  {
   "cell_type": "code",
   "execution_count": 51,
   "metadata": {},
   "outputs": [
    {
     "name": "stdout",
     "output_type": "stream",
     "text": [
      "          length         start          read           filter        measure   \\\n",
      "count  757.000000     757.000000     757.000000     757.000000     757.000000   \n",
      "mean    12.282695    1208.298547    2347.857332    2728.291942    3371.638045   \n",
      "std      9.915750    5493.392359    6080.339754    6199.887875   10590.024346   \n",
      "min      1.000000     171.000000     374.000000     558.000000     733.000000   \n",
      "25%      5.000000     428.000000     791.000000    1001.000000    1214.000000   \n",
      "50%     10.000000     532.000000    1297.000000    1513.000000    1717.000000   \n",
      "75%     18.000000     773.000000    2107.000000    2483.000000    2747.000000   \n",
      "max     49.000000  128081.000000  128930.000000  129228.000000  236979.000000   \n",
      "\n",
      "            tagging         sort               end  \n",
      "count     757.000000     757.000000     757.000000  \n",
      "mean     3728.762219    4220.109643    4566.669749  \n",
      "std     10716.559920   11299.873324   11533.218903  \n",
      "min       909.000000    1081.000000    1247.000000  \n",
      "25%      1426.000000    1655.000000    1890.000000  \n",
      "50%      1928.000000    2149.000000    2348.000000  \n",
      "75%      3010.000000    3271.000000    3514.000000  \n",
      "max    238723.000000  239882.000000  244946.000000  \n"
     ]
    },
    {
     "data": {
      "text/html": [
       "\n",
       "<div class=\"bk-root\">\n",
       "    <div class=\"bk-plotdiv\" id=\"f1b6bf55-4a19-43c7-8ed8-5d88b550e688\"></div>\n",
       "</div>"
      ]
     },
     "metadata": {},
     "output_type": "display_data"
    },
    {
     "data": {
      "application/javascript": [
       "(function(root) {\n",
       "  function embed_document(root) {\n",
       "    \n",
       "  var docs_json = {\"151b29ec-18e7-493f-a6e8-1ad7aeb586f9\":{\"roots\":{\"references\":[{\"attributes\":{\"source\":{\"id\":\"b3922aa0-7ab9-4ff8-9245-ad381f50e782\",\"type\":\"ColumnDataSource\"}},\"id\":\"ae840ab1-253c-4cec-8992-db9690a874f3\",\"type\":\"CDSView\"},{\"attributes\":{\"formatter\":{\"id\":\"6d90741c-1e95-4447-8f5c-9396b40129ae\",\"type\":\"BasicTickFormatter\"},\"plot\":{\"id\":\"20b54df2-c737-46d1-8c34-74f5a6a22e96\",\"subtype\":\"Figure\",\"type\":\"Plot\"},\"ticker\":{\"id\":\"2d4b0fe3-ed0a-4b36-a1ae-30bb20d58e3a\",\"type\":\"BasicTicker\"}},\"id\":\"628a099b-b9ea-4efc-a693-a850c796e10f\",\"type\":\"LinearAxis\"},{\"attributes\":{},\"id\":\"71d2991d-d0bd-4487-9e3c-a117b1ad9a34\",\"type\":\"ResetTool\"},{\"attributes\":{},\"id\":\"5e0242da-6bfc-4891-8710-01bf85d3f1d3\",\"type\":\"BasicTicker\"},{\"attributes\":{\"dimension\":1,\"plot\":{\"id\":\"20b54df2-c737-46d1-8c34-74f5a6a22e96\",\"subtype\":\"Figure\",\"type\":\"Plot\"},\"ticker\":{\"id\":\"2d4b0fe3-ed0a-4b36-a1ae-30bb20d58e3a\",\"type\":\"BasicTicker\"}},\"id\":\"6b5edad8-5627-4e8e-a03b-0aa926693b89\",\"type\":\"Grid\"},{\"attributes\":{\"formatter\":{\"id\":\"264b709c-1bc4-47ce-ac92-0206260e303d\",\"type\":\"BasicTickFormatter\"},\"plot\":{\"id\":\"20b54df2-c737-46d1-8c34-74f5a6a22e96\",\"subtype\":\"Figure\",\"type\":\"Plot\"},\"ticker\":{\"id\":\"5e0242da-6bfc-4891-8710-01bf85d3f1d3\",\"type\":\"BasicTicker\"}},\"id\":\"daf529ba-8f1a-4329-a4c2-9c2d0d49b574\",\"type\":\"LinearAxis\"},{\"attributes\":{},\"id\":\"6d90741c-1e95-4447-8f5c-9396b40129ae\",\"type\":\"BasicTickFormatter\"},{\"attributes\":{\"bottom\":{\"value\":0},\"fill_alpha\":{\"value\":0.1},\"fill_color\":{\"value\":\"#1f77b4\"},\"left\":{\"field\":\"left\"},\"line_alpha\":{\"value\":0.1},\"line_color\":{\"value\":\"#1f77b4\"},\"right\":{\"field\":\"right\"},\"top\":{\"field\":\"top\"}},\"id\":\"d1cc9614-e1e4-4c58-9f4c-7af7d647c921\",\"type\":\"Quad\"},{\"attributes\":{\"plot\":{\"id\":\"20b54df2-c737-46d1-8c34-74f5a6a22e96\",\"subtype\":\"Figure\",\"type\":\"Plot\"},\"ticker\":{\"id\":\"5e0242da-6bfc-4891-8710-01bf85d3f1d3\",\"type\":\"BasicTicker\"}},\"id\":\"0fedcf44-a9ae-4802-9f4e-9dca6ab894fb\",\"type\":\"Grid\"},{\"attributes\":{},\"id\":\"2d4b0fe3-ed0a-4b36-a1ae-30bb20d58e3a\",\"type\":\"BasicTicker\"},{\"attributes\":{},\"id\":\"264b709c-1bc4-47ce-ac92-0206260e303d\",\"type\":\"BasicTickFormatter\"},{\"attributes\":{\"bottom\":{\"value\":0},\"fill_color\":{\"value\":\"blue\"},\"left\":{\"field\":\"left\"},\"line_color\":{\"value\":\"red\"},\"right\":{\"field\":\"right\"},\"top\":{\"field\":\"top\"}},\"id\":\"ddd9a24d-7c8d-499d-9bf9-3ebcbdb110c5\",\"type\":\"Quad\"},{\"attributes\":{\"overlay\":{\"id\":\"c1eb49ab-270d-4d9a-9fa6-a122f118d9dc\",\"type\":\"BoxAnnotation\"}},\"id\":\"0bc0da6b-3d73-491a-95f7-757b4330faa6\",\"type\":\"BoxZoomTool\"},{\"attributes\":{},\"id\":\"4a0883e6-db47-4922-b689-22da42d860b5\",\"type\":\"SaveTool\"},{\"attributes\":{\"below\":[{\"id\":\"daf529ba-8f1a-4329-a4c2-9c2d0d49b574\",\"type\":\"LinearAxis\"}],\"left\":[{\"id\":\"628a099b-b9ea-4efc-a693-a850c796e10f\",\"type\":\"LinearAxis\"}],\"renderers\":[{\"id\":\"daf529ba-8f1a-4329-a4c2-9c2d0d49b574\",\"type\":\"LinearAxis\"},{\"id\":\"0fedcf44-a9ae-4802-9f4e-9dca6ab894fb\",\"type\":\"Grid\"},{\"id\":\"628a099b-b9ea-4efc-a693-a850c796e10f\",\"type\":\"LinearAxis\"},{\"id\":\"6b5edad8-5627-4e8e-a03b-0aa926693b89\",\"type\":\"Grid\"},{\"id\":\"c1eb49ab-270d-4d9a-9fa6-a122f118d9dc\",\"type\":\"BoxAnnotation\"},{\"id\":\"c27f9921-6816-43dc-aea8-0cc43db84383\",\"type\":\"GlyphRenderer\"}],\"title\":{\"id\":\"90357b09-114e-4520-a809-9bc479dbb845\",\"type\":\"Title\"},\"toolbar\":{\"id\":\"a265e924-d56f-4628-983a-1763cb7ed1f9\",\"type\":\"Toolbar\"},\"x_range\":{\"id\":\"ac67fc81-94ed-451c-85e0-e401a4a6ebae\",\"type\":\"DataRange1d\"},\"x_scale\":{\"id\":\"52e7d79b-4e78-4d10-8721-b08e45689500\",\"type\":\"LinearScale\"},\"y_range\":{\"id\":\"9e97bd71-42fe-4522-a04a-9db082235c96\",\"type\":\"DataRange1d\"},\"y_scale\":{\"id\":\"05b00dbc-5a59-4c22-b285-108371e398da\",\"type\":\"LinearScale\"}},\"id\":\"20b54df2-c737-46d1-8c34-74f5a6a22e96\",\"subtype\":\"Figure\",\"type\":\"Plot\"},{\"attributes\":{},\"id\":\"05b00dbc-5a59-4c22-b285-108371e398da\",\"type\":\"LinearScale\"},{\"attributes\":{\"plot\":null,\"text\":\"total cost dist\"},\"id\":\"90357b09-114e-4520-a809-9bc479dbb845\",\"type\":\"Title\"},{\"attributes\":{\"callback\":null},\"id\":\"ac67fc81-94ed-451c-85e0-e401a4a6ebae\",\"type\":\"DataRange1d\"},{\"attributes\":{},\"id\":\"52e7d79b-4e78-4d10-8721-b08e45689500\",\"type\":\"LinearScale\"},{\"attributes\":{},\"id\":\"ab01ae86-4669-4ff5-84ba-b58b50dec373\",\"type\":\"HelpTool\"},{\"attributes\":{},\"id\":\"c0ba8b62-644e-436f-8cb2-22c74993342c\",\"type\":\"WheelZoomTool\"},{\"attributes\":{\"data_source\":{\"id\":\"b3922aa0-7ab9-4ff8-9245-ad381f50e782\",\"type\":\"ColumnDataSource\"},\"glyph\":{\"id\":\"ddd9a24d-7c8d-499d-9bf9-3ebcbdb110c5\",\"type\":\"Quad\"},\"hover_glyph\":null,\"muted_glyph\":null,\"nonselection_glyph\":{\"id\":\"d1cc9614-e1e4-4c58-9f4c-7af7d647c921\",\"type\":\"Quad\"},\"selection_glyph\":null,\"view\":{\"id\":\"ae840ab1-253c-4cec-8992-db9690a874f3\",\"type\":\"CDSView\"}},\"id\":\"c27f9921-6816-43dc-aea8-0cc43db84383\",\"type\":\"GlyphRenderer\"},{\"attributes\":{\"bottom_units\":\"screen\",\"fill_alpha\":{\"value\":0.5},\"fill_color\":{\"value\":\"lightgrey\"},\"left_units\":\"screen\",\"level\":\"overlay\",\"line_alpha\":{\"value\":1.0},\"line_color\":{\"value\":\"black\"},\"line_dash\":[4,4],\"line_width\":{\"value\":2},\"plot\":null,\"render_mode\":\"css\",\"right_units\":\"screen\",\"top_units\":\"screen\"},\"id\":\"c1eb49ab-270d-4d9a-9fa6-a122f118d9dc\",\"type\":\"BoxAnnotation\"},{\"attributes\":{\"callback\":null},\"id\":\"9e97bd71-42fe-4522-a04a-9db082235c96\",\"type\":\"DataRange1d\"},{\"attributes\":{\"active_drag\":\"auto\",\"active_inspect\":\"auto\",\"active_scroll\":\"auto\",\"active_tap\":\"auto\",\"tools\":[{\"id\":\"495385aa-e0b2-44ee-9562-534f1b79eca2\",\"type\":\"PanTool\"},{\"id\":\"c0ba8b62-644e-436f-8cb2-22c74993342c\",\"type\":\"WheelZoomTool\"},{\"id\":\"0bc0da6b-3d73-491a-95f7-757b4330faa6\",\"type\":\"BoxZoomTool\"},{\"id\":\"4a0883e6-db47-4922-b689-22da42d860b5\",\"type\":\"SaveTool\"},{\"id\":\"71d2991d-d0bd-4487-9e3c-a117b1ad9a34\",\"type\":\"ResetTool\"},{\"id\":\"ab01ae86-4669-4ff5-84ba-b58b50dec373\",\"type\":\"HelpTool\"}]},\"id\":\"a265e924-d56f-4628-983a-1763cb7ed1f9\",\"type\":\"Toolbar\"},{\"attributes\":{\"callback\":null,\"column_names\":[\"left\",\"right\",\"top\"],\"data\":{\"left\":{\"__ndarray__\":\"AAAAAAB8k0AUrkfh+ui3QBSuR+F6ecVAHoXrUXj+zkAUrkfhukHUQJmZmZk5BNlAHoXrUbjG3UBSuB6Fm0ThQBSuR+HapeNA1qNwPRoH5kCZmZmZWWjoQFyPwvWYyepAHoXrUdgq7UDgehSuF4zvQFK4HoWr9vBAMzMzM0sn8kAUrkfh6lfzQPUoXI+KiPRA1qNwPSq59UC4HoXryen2QJmZmZlpGvhAehSuRwlL+UBcj8L1qHv6QD0K16NIrPtAHoXrUejc/ED/////hw3+QOB6FK4nPv9A4XoUrmM3AEFSuB6Fs88AQcL1KFwDaAFBMzMzM1MAAkGjcD0Ko5gCQRSuR+HyMANBhetRuELJA0H1KFyPkmEEQWZmZmbi+QRB1qNwPTKSBUFH4XoUgioGQbgehevRwgZBKFyPwiFbB0GZmZmZcfMHQQrXo3DBiwhBehSuRxEkCUHrUbgeYbwJQVyPwvWwVApBzMzMzADtCkE9CtejUIULQa1H4XqgHQxBHoXrUfC1DEGPwvUoQE4NQQ==\",\"dtype\":\"float64\",\"shape\":[50]},\"right\":{\"__ndarray__\":\"FK5H4frot0AUrkfhennFQB6F61F4/s5AFK5H4bpB1ECZmZmZOQTZQB6F61G4xt1AUrgehZtE4UAUrkfh2qXjQNajcD0aB+ZAmZmZmVlo6EBcj8L1mMnqQB6F61HYKu1A4HoUrheM70BSuB6Fq/bwQDMzMzNLJ/JAFK5H4epX80D1KFyPioj0QNajcD0qufVAuB6F68np9kCZmZmZaRr4QHoUrkcJS/lAXI/C9ah7+kA9CtejSKz7QB6F61Ho3PxA/////4cN/kDgehSuJz7/QOF6FK5jNwBBUrgehbPPAEHC9ShcA2gBQTMzMzNTAAJBo3A9CqOYAkEUrkfh8jADQYXrUbhCyQNB9Shcj5JhBEFmZmZm4vkEQdajcD0ykgVBR+F6FIIqBkG4HoXr0cIGQShcj8IhWwdBmZmZmXHzB0EK16NwwYsIQXoUrkcRJAlB61G4HmG8CUFcj8L1sFQKQczMzMwA7QpBPQrXo1CFC0GtR+F6oB0MQR6F61HwtQxBj8L1KEBODUEAAAAAkOYNQQ==\",\"dtype\":\"float64\",\"shape\":[50]},\"top\":{\"__ndarray__\":\"l2qYRX8pJz/kVxUnzcHiPrg9A83De/A+sAW1hF28tj5Z0ZDQSjCSPlnRkNBKMJI+AAAAAAAAAAAAAAAAAAAAAF3RkNBKMJI+VdGQ0Eowoj4AAAAAAAAAAAAAAAAAAAAAAAAAAAAAAABN0ZDQSjCSPgAAAAAAAAAAAAAAAAAAAAAAAAAAAAAAAAAAAAAAAAAATdGQ0Eowkj4AAAAAAAAAAAAAAAAAAAAAAAAAAAAAAAAAAAAAAAAAAAAAAAAAAAAAAAAAAAAAAAAAAAAAAAAAAE3RkNBKMJI+AAAAAAAAAAAAAAAAAAAAAAAAAAAAAAAAAAAAAAAAAAAAAAAAAAAAAAAAAAAAAAAAAAAAAAAAAAAAAAAAAAAAAAAAAAAAAAAAAAAAAAAAAAAAAAAAAAAAAAAAAAAAAAAAAAAAAAAAAAAAAAAAAAAAAAAAAAAAAAAAAAAAAAAAAAAAAAAAAAAAAAAAAAAAAAAAAAAAAAAAAAAAAAAAAAAAAAAAAAAAAAAAAAAAAAAAAABN0ZDQSjCSPg==\",\"dtype\":\"float64\",\"shape\":[50]}}},\"id\":\"b3922aa0-7ab9-4ff8-9245-ad381f50e782\",\"type\":\"ColumnDataSource\"},{\"attributes\":{},\"id\":\"495385aa-e0b2-44ee-9562-534f1b79eca2\",\"type\":\"PanTool\"}],\"root_ids\":[\"20b54df2-c737-46d1-8c34-74f5a6a22e96\"]},\"title\":\"Bokeh Application\",\"version\":\"0.12.13\"}};\n",
       "  var render_items = [{\"docid\":\"151b29ec-18e7-493f-a6e8-1ad7aeb586f9\",\"elementid\":\"f1b6bf55-4a19-43c7-8ed8-5d88b550e688\",\"modelid\":\"20b54df2-c737-46d1-8c34-74f5a6a22e96\"}];\n",
       "  root.Bokeh.embed.embed_items_notebook(docs_json, render_items);\n",
       "\n",
       "  }\n",
       "  if (root.Bokeh !== undefined) {\n",
       "    embed_document(root);\n",
       "  } else {\n",
       "    var attempts = 0;\n",
       "    var timer = setInterval(function(root) {\n",
       "      if (root.Bokeh !== undefined) {\n",
       "        embed_document(root);\n",
       "        clearInterval(timer);\n",
       "      }\n",
       "      attempts++;\n",
       "      if (attempts > 100) {\n",
       "        console.log(\"Bokeh: ERROR: Unable to run BokehJS code because BokehJS library is missing\")\n",
       "        clearInterval(timer);\n",
       "      }\n",
       "    }, 10, root)\n",
       "  }\n",
       "})(window);"
      ],
      "application/vnd.bokehjs_exec.v0+json": ""
     },
     "metadata": {
      "application/vnd.bokehjs_exec.v0+json": {
       "id": "20b54df2-c737-46d1-8c34-74f5a6a22e96"
      }
     },
     "output_type": "display_data"
    }
   ],
   "source": [
    "plot_total(2)"
   ]
  },
  {
   "cell_type": "code",
   "execution_count": 53,
   "metadata": {},
   "outputs": [
    {
     "name": "stdout",
     "output_type": "stream",
     "text": [
      "          length         start          read           filter        measure   \\\n",
      "count  646.000000     646.000000     646.000000     646.000000     646.000000   \n",
      "mean    11.315789    1476.258514    2470.239938    2864.504644    3205.613003   \n",
      "std     10.544228    8601.644306    8779.741035    8856.515128    8935.485641   \n",
      "min      1.000000     174.000000     390.000000     565.000000     736.000000   \n",
      "25%      4.000000     384.250000     752.250000     965.250000    1178.000000   \n",
      "50%      8.000000     440.000000    1140.500000    1363.000000    1561.000000   \n",
      "75%     14.000000     599.000000    1603.500000    1937.250000    2155.000000   \n",
      "max     58.000000  173609.000000  174260.000000  174534.000000  174775.000000   \n",
      "\n",
      "            tagging         sort               end  \n",
      "count     646.000000     646.000000     646.000000  \n",
      "mean     3572.139319    3938.139319    4285.526316  \n",
      "std      9045.903575    9167.213633    9295.571456  \n",
      "min       898.000000    1071.000000    1247.000000  \n",
      "25%      1386.500000    1594.750000    1801.250000  \n",
      "50%      1762.500000    1968.000000    2165.000000  \n",
      "75%      2424.250000    2650.500000    2864.750000  \n",
      "max    175018.000000  175270.000000  175515.000000  \n"
     ]
    },
    {
     "data": {
      "text/html": [
       "\n",
       "<div class=\"bk-root\">\n",
       "    <div class=\"bk-plotdiv\" id=\"815aed65-ce1f-4a26-9a4a-42a4c195012d\"></div>\n",
       "</div>"
      ]
     },
     "metadata": {},
     "output_type": "display_data"
    },
    {
     "data": {
      "application/javascript": [
       "(function(root) {\n",
       "  function embed_document(root) {\n",
       "    \n",
       "  var docs_json = {\"bf91124d-9630-4f56-ae7f-ba987ec5851e\":{\"roots\":{\"references\":[{\"attributes\":{},\"id\":\"4dc3cc59-8020-4d53-911a-1c95c033e107\",\"type\":\"LinearScale\"},{\"attributes\":{\"below\":[{\"id\":\"1a69eb9c-9962-4f16-964e-fbcdd1042008\",\"type\":\"LinearAxis\"}],\"left\":[{\"id\":\"a8d0e467-71c0-44cf-821f-9308d2b7cdb1\",\"type\":\"LinearAxis\"}],\"renderers\":[{\"id\":\"1a69eb9c-9962-4f16-964e-fbcdd1042008\",\"type\":\"LinearAxis\"},{\"id\":\"48771238-d4fd-4c80-b245-2c156fbd0cd1\",\"type\":\"Grid\"},{\"id\":\"a8d0e467-71c0-44cf-821f-9308d2b7cdb1\",\"type\":\"LinearAxis\"},{\"id\":\"4ae665e7-84ba-43c4-bc8f-70c3aeb69d1e\",\"type\":\"Grid\"},{\"id\":\"1d6bc964-dd8d-4819-bca7-f813a242631f\",\"type\":\"BoxAnnotation\"},{\"id\":\"d599bb43-41c8-489f-942d-41565765df0c\",\"type\":\"GlyphRenderer\"}],\"title\":{\"id\":\"baf437b9-cf98-409c-b586-8c84827d4821\",\"type\":\"Title\"},\"toolbar\":{\"id\":\"71c25c2a-8f2e-45c4-8c8a-879387b408f4\",\"type\":\"Toolbar\"},\"x_range\":{\"id\":\"6fb81f04-40b2-4bc0-9e7a-b21da4c709c0\",\"type\":\"DataRange1d\"},\"x_scale\":{\"id\":\"4dc3cc59-8020-4d53-911a-1c95c033e107\",\"type\":\"LinearScale\"},\"y_range\":{\"id\":\"d76ea73d-68d1-4661-b90b-0058eceee464\",\"type\":\"DataRange1d\"},\"y_scale\":{\"id\":\"e47523f6-a225-4cc1-bca5-cbf4bc4da2e7\",\"type\":\"LinearScale\"}},\"id\":\"954fc6d4-6867-49e1-879d-a0c9be0669c9\",\"subtype\":\"Figure\",\"type\":\"Plot\"},{\"attributes\":{\"bottom_units\":\"screen\",\"fill_alpha\":{\"value\":0.5},\"fill_color\":{\"value\":\"lightgrey\"},\"left_units\":\"screen\",\"level\":\"overlay\",\"line_alpha\":{\"value\":1.0},\"line_color\":{\"value\":\"black\"},\"line_dash\":[4,4],\"line_width\":{\"value\":2},\"plot\":null,\"render_mode\":\"css\",\"right_units\":\"screen\",\"top_units\":\"screen\"},\"id\":\"1d6bc964-dd8d-4819-bca7-f813a242631f\",\"type\":\"BoxAnnotation\"},{\"attributes\":{\"active_drag\":\"auto\",\"active_inspect\":\"auto\",\"active_scroll\":\"auto\",\"active_tap\":\"auto\",\"tools\":[{\"id\":\"e787af5c-9a6e-4baf-b2e9-2bc908616ff7\",\"type\":\"PanTool\"},{\"id\":\"3c8a2db9-3fc9-4ec2-9868-b00e38a62040\",\"type\":\"WheelZoomTool\"},{\"id\":\"3a569e67-8450-4ed4-8474-4c335cf1ea4b\",\"type\":\"BoxZoomTool\"},{\"id\":\"0679f65b-4f10-45a5-8512-8987ac71208c\",\"type\":\"SaveTool\"},{\"id\":\"6221787d-c342-497a-b706-8a3803287bb2\",\"type\":\"ResetTool\"},{\"id\":\"6113d22c-ed5b-4c5e-8911-464d687ace74\",\"type\":\"HelpTool\"}]},\"id\":\"71c25c2a-8f2e-45c4-8c8a-879387b408f4\",\"type\":\"Toolbar\"},{\"attributes\":{\"bottom\":{\"value\":0},\"fill_alpha\":{\"value\":0.1},\"fill_color\":{\"value\":\"#1f77b4\"},\"left\":{\"field\":\"left\"},\"line_alpha\":{\"value\":0.1},\"line_color\":{\"value\":\"#1f77b4\"},\"right\":{\"field\":\"right\"},\"top\":{\"field\":\"top\"}},\"id\":\"b6931366-2646-4f6d-b059-67583812686e\",\"type\":\"Quad\"},{\"attributes\":{},\"id\":\"6113d22c-ed5b-4c5e-8911-464d687ace74\",\"type\":\"HelpTool\"},{\"attributes\":{\"callback\":null},\"id\":\"6fb81f04-40b2-4bc0-9e7a-b21da4c709c0\",\"type\":\"DataRange1d\"},{\"attributes\":{\"callback\":null},\"id\":\"d76ea73d-68d1-4661-b90b-0058eceee464\",\"type\":\"DataRange1d\"},{\"attributes\":{\"plot\":null,\"text\":\"total cost dist\"},\"id\":\"baf437b9-cf98-409c-b586-8c84827d4821\",\"type\":\"Title\"},{\"attributes\":{},\"id\":\"8196a349-c280-41fe-bbf9-7e3d4a085363\",\"type\":\"BasicTicker\"},{\"attributes\":{},\"id\":\"0679f65b-4f10-45a5-8512-8987ac71208c\",\"type\":\"SaveTool\"},{\"attributes\":{},\"id\":\"6221787d-c342-497a-b706-8a3803287bb2\",\"type\":\"ResetTool\"},{\"attributes\":{\"plot\":{\"id\":\"954fc6d4-6867-49e1-879d-a0c9be0669c9\",\"subtype\":\"Figure\",\"type\":\"Plot\"},\"ticker\":{\"id\":\"8196a349-c280-41fe-bbf9-7e3d4a085363\",\"type\":\"BasicTicker\"}},\"id\":\"48771238-d4fd-4c80-b245-2c156fbd0cd1\",\"type\":\"Grid\"},{\"attributes\":{\"data_source\":{\"id\":\"d4c309d8-ddb7-4189-a085-ed38137ccbcc\",\"type\":\"ColumnDataSource\"},\"glyph\":{\"id\":\"610ea90e-9f21-4de1-b20a-aa80a93a9153\",\"type\":\"Quad\"},\"hover_glyph\":null,\"muted_glyph\":null,\"nonselection_glyph\":{\"id\":\"b6931366-2646-4f6d-b059-67583812686e\",\"type\":\"Quad\"},\"selection_glyph\":null,\"view\":{\"id\":\"31a33db8-647e-4ea4-98ee-1709f45d2b4a\",\"type\":\"CDSView\"}},\"id\":\"d599bb43-41c8-489f-942d-41565765df0c\",\"type\":\"GlyphRenderer\"},{\"attributes\":{\"callback\":null,\"column_names\":[\"left\",\"right\",\"top\"],\"data\":{\"left\":{\"__ndarray__\":\"AAAAAAB8k0CQwvUoXHyyQJDC9SjcDMBA16NwPYrbxkAfhetROKrNQDMzMzNzPNJA16NwPcqj1UB7FK5HIQvZQB+F61F4ctxAw/UoXM/Z30AzMzMzk6DhQIXrUbg+VONA16NwPeoH5UApXI/ClbvmQHsUrkdBb+hAzczMzOwi6kAfhetRmNbrQHE9CtdDiu1Aw/UoXO8970AK16NwzXjwQDMzMzOjUvFAXI/C9Xgs8kCF61G4TgbzQK5H4Xok4PNA16NwPfq59EAAAAAA0JP1QClcj8KlbfZAUrgehXtH90B7FK5HUSH4QKRwPQon+/hAzczMzPzU+UD2KFyP0q76QB+F61GoiPtASOF6FH5i/EBxPQrXUzz9QJqZmZkpFv5Aw/UoXP/v/kDsUbge1cn/QArXo3DVUQBBH4XrUcC+AEEzMzMzqysBQUjhehSWmAFBXI/C9YAFAkFxPQrXa3ICQYXrUbhW3wJBmpmZmUFMA0GuR+F6LLkDQcP1KFwXJgRB16NwPQKTBEHsUbge7f8EQQ==\",\"dtype\":\"float64\",\"shape\":[50]},\"right\":{\"__ndarray__\":\"kML1KFx8skCQwvUo3AzAQNejcD2K28ZAH4XrUTiqzUAzMzMzczzSQNejcD3Ko9VAexSuRyEL2UAfhetReHLcQMP1KFzP2d9AMzMzM5Og4UCF61G4PlTjQNejcD3qB+VAKVyPwpW75kB7FK5HQW/oQM3MzMzsIupAH4XrUZjW60BxPQrXQ4rtQMP1KFzvPe9ACtejcM148EAzMzMzo1LxQFyPwvV4LPJAhetRuE4G80CuR+F6JODzQNejcD36ufRAAAAAANCT9UApXI/CpW32QFK4HoV7R/dAexSuR1Eh+ECkcD0KJ/v4QM3MzMz81PlA9ihcj9Ku+kAfhetRqIj7QEjhehR+YvxAcT0K11M8/UCamZmZKRb+QMP1KFz/7/5A7FG4HtXJ/0AK16Nw1VEAQR+F61HAvgBBMzMzM6srAUFI4XoUlpgBQVyPwvWABQJBcT0K12tyAkGF61G4Vt8CQZqZmZlBTANBrkfheiy5A0HD9ShcFyYEQdejcD0CkwRB7FG4Hu3/BEEAAAAA2GwFQQ==\",\"dtype\":\"float64\",\"shape\":[50]},\"top\":{\"__ndarray__\":\"iIcn88TmLz8YcsJglzfYPv3j1mooq98+GHLCYJc3+D4rObjbzn3UPgAAAAAAAAAAAAAAAAAAAAAAAAAAAAAAAIDHUShEzp0+AAAAAAAAAAAAAAAAAAAAAAAAAAAAAAAAAAAAAAAAAAAAAAAAAAAAAAAAAAAAAAAAAAAAAAAAAAAAAAAAAAAAAAAAAAAAAAAAAAAAAAAAAAAAAAAAAAAAAIDHUShEzp0+AAAAAAAAAACAx1EoRM6dPoDHUShEzp0+AAAAAAAAAAAAAAAAAAAAAAAAAAAAAAAAAAAAAAAAAAAAAAAAAAAAAAAAAAAAAAAAAAAAAAAAAAAAAAAAAAAAAAAAAAAAAAAAAAAAAAAAAAAAAAAAAAAAAAAAAAAAAAAAAAAAAAAAAAAAAAAAAAAAAAAAAAAAAAAAAAAAAAAAAAAAAAAAAAAAAAAAAAAAAAAAAAAAAAAAAAAAAAAAAAAAAAAAAAAAAAAAAAAAAAAAAAAAAAAAAAAAAAAAAAAAAAAAAAAAAAAAAACix1EoRM6dPg==\",\"dtype\":\"float64\",\"shape\":[50]}}},\"id\":\"d4c309d8-ddb7-4189-a085-ed38137ccbcc\",\"type\":\"ColumnDataSource\"},{\"attributes\":{\"formatter\":{\"id\":\"559176c9-3590-4527-ba06-f4d66499aec8\",\"type\":\"BasicTickFormatter\"},\"plot\":{\"id\":\"954fc6d4-6867-49e1-879d-a0c9be0669c9\",\"subtype\":\"Figure\",\"type\":\"Plot\"},\"ticker\":{\"id\":\"a1674d6e-d83a-4179-92a1-e39fdbaf866c\",\"type\":\"BasicTicker\"}},\"id\":\"a8d0e467-71c0-44cf-821f-9308d2b7cdb1\",\"type\":\"LinearAxis\"},{\"attributes\":{},\"id\":\"a1674d6e-d83a-4179-92a1-e39fdbaf866c\",\"type\":\"BasicTicker\"},{\"attributes\":{\"bottom\":{\"value\":0},\"fill_color\":{\"value\":\"blue\"},\"left\":{\"field\":\"left\"},\"line_color\":{\"value\":\"red\"},\"right\":{\"field\":\"right\"},\"top\":{\"field\":\"top\"}},\"id\":\"610ea90e-9f21-4de1-b20a-aa80a93a9153\",\"type\":\"Quad\"},{\"attributes\":{\"dimension\":1,\"plot\":{\"id\":\"954fc6d4-6867-49e1-879d-a0c9be0669c9\",\"subtype\":\"Figure\",\"type\":\"Plot\"},\"ticker\":{\"id\":\"a1674d6e-d83a-4179-92a1-e39fdbaf866c\",\"type\":\"BasicTicker\"}},\"id\":\"4ae665e7-84ba-43c4-bc8f-70c3aeb69d1e\",\"type\":\"Grid\"},{\"attributes\":{\"source\":{\"id\":\"d4c309d8-ddb7-4189-a085-ed38137ccbcc\",\"type\":\"ColumnDataSource\"}},\"id\":\"31a33db8-647e-4ea4-98ee-1709f45d2b4a\",\"type\":\"CDSView\"},{\"attributes\":{},\"id\":\"e47523f6-a225-4cc1-bca5-cbf4bc4da2e7\",\"type\":\"LinearScale\"},{\"attributes\":{},\"id\":\"559176c9-3590-4527-ba06-f4d66499aec8\",\"type\":\"BasicTickFormatter\"},{\"attributes\":{},\"id\":\"3c8a2db9-3fc9-4ec2-9868-b00e38a62040\",\"type\":\"WheelZoomTool\"},{\"attributes\":{},\"id\":\"e787af5c-9a6e-4baf-b2e9-2bc908616ff7\",\"type\":\"PanTool\"},{\"attributes\":{\"formatter\":{\"id\":\"dd686801-0393-4653-a6c2-76ee12abe2db\",\"type\":\"BasicTickFormatter\"},\"plot\":{\"id\":\"954fc6d4-6867-49e1-879d-a0c9be0669c9\",\"subtype\":\"Figure\",\"type\":\"Plot\"},\"ticker\":{\"id\":\"8196a349-c280-41fe-bbf9-7e3d4a085363\",\"type\":\"BasicTicker\"}},\"id\":\"1a69eb9c-9962-4f16-964e-fbcdd1042008\",\"type\":\"LinearAxis\"},{\"attributes\":{\"overlay\":{\"id\":\"1d6bc964-dd8d-4819-bca7-f813a242631f\",\"type\":\"BoxAnnotation\"}},\"id\":\"3a569e67-8450-4ed4-8474-4c335cf1ea4b\",\"type\":\"BoxZoomTool\"},{\"attributes\":{},\"id\":\"dd686801-0393-4653-a6c2-76ee12abe2db\",\"type\":\"BasicTickFormatter\"}],\"root_ids\":[\"954fc6d4-6867-49e1-879d-a0c9be0669c9\"]},\"title\":\"Bokeh Application\",\"version\":\"0.12.13\"}};\n",
       "  var render_items = [{\"docid\":\"bf91124d-9630-4f56-ae7f-ba987ec5851e\",\"elementid\":\"815aed65-ce1f-4a26-9a4a-42a4c195012d\",\"modelid\":\"954fc6d4-6867-49e1-879d-a0c9be0669c9\"}];\n",
       "  root.Bokeh.embed.embed_items_notebook(docs_json, render_items);\n",
       "\n",
       "  }\n",
       "  if (root.Bokeh !== undefined) {\n",
       "    embed_document(root);\n",
       "  } else {\n",
       "    var attempts = 0;\n",
       "    var timer = setInterval(function(root) {\n",
       "      if (root.Bokeh !== undefined) {\n",
       "        embed_document(root);\n",
       "        clearInterval(timer);\n",
       "      }\n",
       "      attempts++;\n",
       "      if (attempts > 100) {\n",
       "        console.log(\"Bokeh: ERROR: Unable to run BokehJS code because BokehJS library is missing\")\n",
       "        clearInterval(timer);\n",
       "      }\n",
       "    }, 10, root)\n",
       "  }\n",
       "})(window);"
      ],
      "application/vnd.bokehjs_exec.v0+json": ""
     },
     "metadata": {
      "application/vnd.bokehjs_exec.v0+json": {
       "id": "954fc6d4-6867-49e1-879d-a0c9be0669c9"
      }
     },
     "output_type": "display_data"
    }
   ],
   "source": [
    "plot_total(1)"
   ]
  },
  {
   "cell_type": "code",
   "execution_count": 54,
   "metadata": {},
   "outputs": [
    {
     "name": "stdout",
     "output_type": "stream",
     "text": [
      "mean total cost: 18524.052478134112\n",
      "[1659.67930029 1659.67930029 2171.67346939 2609.696793   3015.35276968\n",
      " 3506.73177843 3901.23906706]\n",
      "[1659.67930029    0.          511.9941691   438.02332362  405.65597668\n",
      "  491.37900875  394.50728863]\n"
     ]
    },
    {
     "data": {
      "text/html": [
       "\n",
       "<div class=\"bk-root\">\n",
       "    <div class=\"bk-plotdiv\" id=\"303767e2-b423-49b9-8989-4ff4f3028186\"></div>\n",
       "</div>"
      ]
     },
     "metadata": {},
     "output_type": "display_data"
    },
    {
     "data": {
      "application/javascript": [
       "(function(root) {\n",
       "  function embed_document(root) {\n",
       "    \n",
       "  var docs_json = {\"221f21c1-0a83-4ed9-89d7-78ff397d46ca\":{\"roots\":{\"references\":[{\"attributes\":{},\"id\":\"e12059b8-5334-4071-b8bd-88eeed6f2fdd\",\"type\":\"BasicTicker\"},{\"attributes\":{\"bottom_units\":\"screen\",\"fill_alpha\":{\"value\":0.5},\"fill_color\":{\"value\":\"lightgrey\"},\"left_units\":\"screen\",\"level\":\"overlay\",\"line_alpha\":{\"value\":1.0},\"line_color\":{\"value\":\"black\"},\"line_dash\":[4,4],\"line_width\":{\"value\":2},\"plot\":null,\"render_mode\":\"css\",\"right_units\":\"screen\",\"top_units\":\"screen\"},\"id\":\"0b903d99-a664-4e95-8afb-aa0315a02405\",\"type\":\"BoxAnnotation\"},{\"attributes\":{},\"id\":\"13cde496-18ff-40d6-b074-b62bb631db00\",\"type\":\"BasicTickFormatter\"},{\"attributes\":{\"callback\":null},\"id\":\"8ce7a7d0-ddfc-4501-bdc1-32845681950a\",\"type\":\"DataRange1d\"},{\"attributes\":{\"fill_alpha\":{\"value\":0.1},\"fill_color\":{\"value\":\"#1f77b4\"},\"line_alpha\":{\"value\":0.1},\"line_color\":{\"value\":\"#1f77b4\"},\"x\":{\"field\":\"x\"},\"y\":{\"field\":\"y\"}},\"id\":\"fa9df3f5-46c5-48a8-af24-46badcb7342d\",\"type\":\"Circle\"},{\"attributes\":{},\"id\":\"e80cf9bc-372b-4214-a8a5-90a505308374\",\"type\":\"LinearScale\"},{\"attributes\":{\"source\":{\"id\":\"9ffc9a30-2b34-455d-acac-ceb95c9e2d19\",\"type\":\"ColumnDataSource\"}},\"id\":\"b211609d-c3a8-4da6-9a4c-b22aeaa3a3b4\",\"type\":\"CDSView\"},{\"attributes\":{\"line_color\":\"#1f77b4\",\"x\":{\"field\":\"x\"},\"y\":{\"field\":\"y\"}},\"id\":\"e4e9ec4c-12a9-45c7-8717-caadcd18c257\",\"type\":\"Line\"},{\"attributes\":{\"below\":[{\"id\":\"e9379d1c-0117-4089-9f92-449f0f578f6a\",\"type\":\"LinearAxis\"}],\"left\":[{\"id\":\"f990deef-18e2-4609-8ce1-493a4b68b677\",\"type\":\"LinearAxis\"}],\"renderers\":[{\"id\":\"e9379d1c-0117-4089-9f92-449f0f578f6a\",\"type\":\"LinearAxis\"},{\"id\":\"3dee13f5-7474-4f4d-80dd-253dd961454e\",\"type\":\"Grid\"},{\"id\":\"f990deef-18e2-4609-8ce1-493a4b68b677\",\"type\":\"LinearAxis\"},{\"id\":\"e17a03dc-ad8c-462b-b760-1ad4877ac182\",\"type\":\"Grid\"},{\"id\":\"0b903d99-a664-4e95-8afb-aa0315a02405\",\"type\":\"BoxAnnotation\"},{\"id\":\"842550ea-ed17-4082-9ac1-0a9ae8cd35cd\",\"type\":\"GlyphRenderer\"},{\"id\":\"316ddc7b-6e78-44c5-89fb-9462d655246a\",\"type\":\"GlyphRenderer\"},{\"id\":\"6478818e-19da-4522-b8c3-5135b7215fd8\",\"type\":\"LabelSet\"}],\"title\":{\"id\":\"087ff309-6612-467d-a106-858ca1b1add2\",\"type\":\"Title\"},\"toolbar\":{\"id\":\"df49d7ce-cd20-4d3e-9981-f6874ebc306f\",\"type\":\"Toolbar\"},\"x_range\":{\"id\":\"8ce7a7d0-ddfc-4501-bdc1-32845681950a\",\"type\":\"DataRange1d\"},\"x_scale\":{\"id\":\"e80cf9bc-372b-4214-a8a5-90a505308374\",\"type\":\"LinearScale\"},\"y_range\":{\"id\":\"6c99c0cf-9a61-4b87-a06a-b18a794fbc9e\",\"type\":\"DataRange1d\"},\"y_scale\":{\"id\":\"9682b503-9509-40e9-89ea-08c7af7922ca\",\"type\":\"LinearScale\"}},\"id\":\"792e8720-8caf-4cf3-8568-be5835812c9e\",\"subtype\":\"Figure\",\"type\":\"Plot\"},{\"attributes\":{\"line_alpha\":0.1,\"line_color\":\"#1f77b4\",\"x\":{\"field\":\"x\"},\"y\":{\"field\":\"y\"}},\"id\":\"d8234abb-cdce-4d23-b0b2-45447ff5435c\",\"type\":\"Line\"},{\"attributes\":{\"level\":\"glyph\",\"plot\":{\"id\":\"792e8720-8caf-4cf3-8568-be5835812c9e\",\"subtype\":\"Figure\",\"type\":\"Plot\"},\"source\":{\"id\":\"9ffc9a30-2b34-455d-acac-ceb95c9e2d19\",\"type\":\"ColumnDataSource\"},\"text\":{\"field\":\"names\"},\"x\":{\"field\":\"x\"},\"x_offset\":{\"value\":10},\"y\":{\"field\":\"y\"},\"y_offset\":{\"value\":-5}},\"id\":\"6478818e-19da-4522-b8c3-5135b7215fd8\",\"type\":\"LabelSet\"},{\"attributes\":{},\"id\":\"ff57a318-0e07-4f7b-9431-074f2cde621f\",\"type\":\"ResetTool\"},{\"attributes\":{},\"id\":\"486e80b1-6fea-4f4f-8f85-122e2d5a0632\",\"type\":\"HelpTool\"},{\"attributes\":{\"data_source\":{\"id\":\"9ffc9a30-2b34-455d-acac-ceb95c9e2d19\",\"type\":\"ColumnDataSource\"},\"glyph\":{\"id\":\"e4e9ec4c-12a9-45c7-8717-caadcd18c257\",\"type\":\"Line\"},\"hover_glyph\":null,\"muted_glyph\":null,\"nonselection_glyph\":{\"id\":\"d8234abb-cdce-4d23-b0b2-45447ff5435c\",\"type\":\"Line\"},\"selection_glyph\":null,\"view\":{\"id\":\"0cf20d7b-5a1d-46c3-9d41-92ded870cb5e\",\"type\":\"CDSView\"}},\"id\":\"842550ea-ed17-4082-9ac1-0a9ae8cd35cd\",\"type\":\"GlyphRenderer\"},{\"attributes\":{\"active_drag\":\"auto\",\"active_inspect\":\"auto\",\"active_scroll\":\"auto\",\"active_tap\":\"auto\",\"tools\":[{\"id\":\"c9bc5796-48e5-4a97-8c37-6aeec1b660be\",\"type\":\"PanTool\"},{\"id\":\"30f14258-d3ad-4c6e-9951-11d177f9a777\",\"type\":\"WheelZoomTool\"},{\"id\":\"8152c1d3-ba4a-4d16-8771-b9bf0b039d61\",\"type\":\"BoxZoomTool\"},{\"id\":\"909168f3-f71f-4516-8cbc-484d1885aa89\",\"type\":\"SaveTool\"},{\"id\":\"ff57a318-0e07-4f7b-9431-074f2cde621f\",\"type\":\"ResetTool\"},{\"id\":\"486e80b1-6fea-4f4f-8f85-122e2d5a0632\",\"type\":\"HelpTool\"}]},\"id\":\"df49d7ce-cd20-4d3e-9981-f6874ebc306f\",\"type\":\"Toolbar\"},{\"attributes\":{\"source\":{\"id\":\"9ffc9a30-2b34-455d-acac-ceb95c9e2d19\",\"type\":\"ColumnDataSource\"}},\"id\":\"0cf20d7b-5a1d-46c3-9d41-92ded870cb5e\",\"type\":\"CDSView\"},{\"attributes\":{\"axis_label\":\"nanoseconds\",\"formatter\":{\"id\":\"69868865-3e81-4db2-a33d-9b7c51df3f1c\",\"type\":\"BasicTickFormatter\"},\"plot\":{\"id\":\"792e8720-8caf-4cf3-8568-be5835812c9e\",\"subtype\":\"Figure\",\"type\":\"Plot\"},\"ticker\":{\"id\":\"e12059b8-5334-4071-b8bd-88eeed6f2fdd\",\"type\":\"BasicTicker\"}},\"id\":\"f990deef-18e2-4609-8ce1-493a4b68b677\",\"type\":\"LinearAxis\"},{\"attributes\":{\"callback\":null,\"column_names\":[\"x\",\"y\",\"names\"],\"data\":{\"names\":[\"start\",\"read\",\"filter\",\"measure\",\"tagging\",\"sort\",\"end\"],\"x\":[0,1,2,3,4,5,6],\"y\":{\"__ndarray__\":\"ZuF+mrfumUAAAAAAAAAAAKiu2h3o/39AaEWViF9ge0AwQGbhflp5QPCneWsQtn5AsKWu2h2oeEA=\",\"dtype\":\"float64\",\"shape\":[7]}}},\"id\":\"9ffc9a30-2b34-455d-acac-ceb95c9e2d19\",\"type\":\"ColumnDataSource\"},{\"attributes\":{},\"id\":\"27149642-f244-40f9-af52-354163dd102d\",\"type\":\"BasicTicker\"},{\"attributes\":{\"data_source\":{\"id\":\"9ffc9a30-2b34-455d-acac-ceb95c9e2d19\",\"type\":\"ColumnDataSource\"},\"glyph\":{\"id\":\"41805a1d-4a8f-4768-9bfb-6dc71337e333\",\"type\":\"Circle\"},\"hover_glyph\":null,\"muted_glyph\":null,\"nonselection_glyph\":{\"id\":\"fa9df3f5-46c5-48a8-af24-46badcb7342d\",\"type\":\"Circle\"},\"selection_glyph\":null,\"view\":{\"id\":\"b211609d-c3a8-4da6-9a4c-b22aeaa3a3b4\",\"type\":\"CDSView\"}},\"id\":\"316ddc7b-6e78-44c5-89fb-9462d655246a\",\"type\":\"GlyphRenderer\"},{\"attributes\":{\"axis_label\":\"end\",\"formatter\":{\"id\":\"13cde496-18ff-40d6-b074-b62bb631db00\",\"type\":\"BasicTickFormatter\"},\"plot\":{\"id\":\"792e8720-8caf-4cf3-8568-be5835812c9e\",\"subtype\":\"Figure\",\"type\":\"Plot\"},\"ticker\":{\"id\":\"27149642-f244-40f9-af52-354163dd102d\",\"type\":\"BasicTicker\"}},\"id\":\"e9379d1c-0117-4089-9f92-449f0f578f6a\",\"type\":\"LinearAxis\"},{\"attributes\":{\"plot\":{\"id\":\"792e8720-8caf-4cf3-8568-be5835812c9e\",\"subtype\":\"Figure\",\"type\":\"Plot\"},\"ticker\":{\"id\":\"27149642-f244-40f9-af52-354163dd102d\",\"type\":\"BasicTicker\"}},\"id\":\"3dee13f5-7474-4f4d-80dd-253dd961454e\",\"type\":\"Grid\"},{\"attributes\":{\"overlay\":{\"id\":\"0b903d99-a664-4e95-8afb-aa0315a02405\",\"type\":\"BoxAnnotation\"}},\"id\":\"8152c1d3-ba4a-4d16-8771-b9bf0b039d61\",\"type\":\"BoxZoomTool\"},{\"attributes\":{},\"id\":\"9682b503-9509-40e9-89ea-08c7af7922ca\",\"type\":\"LinearScale\"},{\"attributes\":{\"fill_color\":{\"value\":\"#1f77b4\"},\"line_color\":{\"value\":\"#1f77b4\"},\"x\":{\"field\":\"x\"},\"y\":{\"field\":\"y\"}},\"id\":\"41805a1d-4a8f-4768-9bfb-6dc71337e333\",\"type\":\"Circle\"},{\"attributes\":{\"callback\":null},\"id\":\"6c99c0cf-9a61-4b87-a06a-b18a794fbc9e\",\"type\":\"DataRange1d\"},{\"attributes\":{},\"id\":\"69868865-3e81-4db2-a33d-9b7c51df3f1c\",\"type\":\"BasicTickFormatter\"},{\"attributes\":{},\"id\":\"30f14258-d3ad-4c6e-9951-11d177f9a777\",\"type\":\"WheelZoomTool\"},{\"attributes\":{},\"id\":\"909168f3-f71f-4516-8cbc-484d1885aa89\",\"type\":\"SaveTool\"},{\"attributes\":{\"dimension\":1,\"plot\":{\"id\":\"792e8720-8caf-4cf3-8568-be5835812c9e\",\"subtype\":\"Figure\",\"type\":\"Plot\"},\"ticker\":{\"id\":\"e12059b8-5334-4071-b8bd-88eeed6f2fdd\",\"type\":\"BasicTicker\"}},\"id\":\"e17a03dc-ad8c-462b-b760-1ad4877ac182\",\"type\":\"Grid\"},{\"attributes\":{},\"id\":\"c9bc5796-48e5-4a97-8c37-6aeec1b660be\",\"type\":\"PanTool\"},{\"attributes\":{\"plot\":null,\"text\":\"mean cost\"},\"id\":\"087ff309-6612-467d-a106-858ca1b1add2\",\"type\":\"Title\"}],\"root_ids\":[\"792e8720-8caf-4cf3-8568-be5835812c9e\"]},\"title\":\"Bokeh Application\",\"version\":\"0.12.13\"}};\n",
       "  var render_items = [{\"docid\":\"221f21c1-0a83-4ed9-89d7-78ff397d46ca\",\"elementid\":\"303767e2-b423-49b9-8989-4ff4f3028186\",\"modelid\":\"792e8720-8caf-4cf3-8568-be5835812c9e\"}];\n",
       "  root.Bokeh.embed.embed_items_notebook(docs_json, render_items);\n",
       "\n",
       "  }\n",
       "  if (root.Bokeh !== undefined) {\n",
       "    embed_document(root);\n",
       "  } else {\n",
       "    var attempts = 0;\n",
       "    var timer = setInterval(function(root) {\n",
       "      if (root.Bokeh !== undefined) {\n",
       "        embed_document(root);\n",
       "        clearInterval(timer);\n",
       "      }\n",
       "      attempts++;\n",
       "      if (attempts > 100) {\n",
       "        console.log(\"Bokeh: ERROR: Unable to run BokehJS code because BokehJS library is missing\")\n",
       "        clearInterval(timer);\n",
       "      }\n",
       "    }, 10, root)\n",
       "  }\n",
       "})(window);"
      ],
      "application/vnd.bokehjs_exec.v0+json": ""
     },
     "metadata": {
      "application/vnd.bokehjs_exec.v0+json": {
       "id": "792e8720-8caf-4cf3-8568-be5835812c9e"
      }
     },
     "output_type": "display_data"
    }
   ],
   "source": [
    "plot(4)"
   ]
  },
  {
   "cell_type": "markdown",
   "metadata": {},
   "source": [
    "search_4.csv is produced with the same as search_3.csv, but run with +RTS -N4"
   ]
  },
  {
   "cell_type": "code",
   "execution_count": 57,
   "metadata": {},
   "outputs": [
    {
     "name": "stdout",
     "output_type": "stream",
     "text": [
      "          length         start          read           filter        measure   \\\n",
      "count  342.000000     342.000000     342.000000     342.000000     342.000000   \n",
      "mean    10.070175    1654.687135    1654.687135    2162.850877    2598.093567   \n",
      "std      7.605045   12323.837407   12323.837407   12381.954642   12457.033486   \n",
      "min      1.000000     183.000000     183.000000     375.000000     554.000000   \n",
      "25%      4.000000     411.250000     411.250000     650.000000     852.250000   \n",
      "50%      8.000000     446.000000     446.000000     716.500000     971.500000   \n",
      "75%     14.750000     684.500000     684.500000    1131.750000    1541.250000   \n",
      "max     33.000000  225778.000000  225778.000000  226504.000000  227189.000000   \n",
      "\n",
      "            tagging         sort               end  \n",
      "count     342.000000     342.000000     342.000000  \n",
      "mean     3000.932749    3489.570175    3881.131579  \n",
      "std     12577.841407   12669.366947   12763.660087  \n",
      "min       726.000000     900.000000    1074.000000  \n",
      "25%      1052.000000    1256.000000    1449.250000  \n",
      "50%      1199.500000    1468.000000    1698.500000  \n",
      "75%      1773.750000    2135.250000    2468.750000  \n",
      "max    228002.000000  228263.000000  228792.000000  \n"
     ]
    },
    {
     "data": {
      "text/html": [
       "\n",
       "<div class=\"bk-root\">\n",
       "    <div class=\"bk-plotdiv\" id=\"f529740a-0844-4c7f-ba0c-973f3730c278\"></div>\n",
       "</div>"
      ]
     },
     "metadata": {},
     "output_type": "display_data"
    },
    {
     "data": {
      "application/javascript": [
       "(function(root) {\n",
       "  function embed_document(root) {\n",
       "    \n",
       "  var docs_json = {\"3e2c19e7-70c0-45ae-a459-7947cc40aaae\":{\"roots\":{\"references\":[{\"attributes\":{\"data_source\":{\"id\":\"4270b9c7-4ad2-47eb-ae92-d8b4b7100231\",\"type\":\"ColumnDataSource\"},\"glyph\":{\"id\":\"6881cda3-a9d8-4e32-80c6-e9b9f97275ae\",\"type\":\"Quad\"},\"hover_glyph\":null,\"muted_glyph\":null,\"nonselection_glyph\":{\"id\":\"9981f59d-5f2b-42e5-90bb-cb4be9a84239\",\"type\":\"Quad\"},\"selection_glyph\":null,\"view\":{\"id\":\"b1ff2dea-43b2-44b7-a3f1-d3d8b2e52d99\",\"type\":\"CDSView\"}},\"id\":\"c4cb5e53-013c-4b55-81a4-67bd4d22ad1c\",\"type\":\"GlyphRenderer\"},{\"attributes\":{\"active_drag\":\"auto\",\"active_inspect\":\"auto\",\"active_scroll\":\"auto\",\"active_tap\":\"auto\",\"tools\":[{\"id\":\"450d4961-ecf2-48b6-993a-a029a3657362\",\"type\":\"PanTool\"},{\"id\":\"64a7f0a5-93d0-4e62-bc3c-f13666770482\",\"type\":\"WheelZoomTool\"},{\"id\":\"740f3369-0560-479b-b124-ba887e647290\",\"type\":\"BoxZoomTool\"},{\"id\":\"570f1b5f-6b6b-48de-8637-37e800fc4c21\",\"type\":\"SaveTool\"},{\"id\":\"06416f5a-770e-45df-a44a-d31585d9ca4c\",\"type\":\"ResetTool\"},{\"id\":\"16247ee1-05a3-4296-87ed-581dbfd465a8\",\"type\":\"HelpTool\"}]},\"id\":\"74b7806f-f461-42f7-95df-89f1b63bdf35\",\"type\":\"Toolbar\"},{\"attributes\":{\"formatter\":{\"id\":\"f6468e31-782d-4475-ab53-f34b9549283c\",\"type\":\"BasicTickFormatter\"},\"plot\":{\"id\":\"f9f7a8d2-a516-409c-b4ed-d840505c781a\",\"subtype\":\"Figure\",\"type\":\"Plot\"},\"ticker\":{\"id\":\"f3d56d0b-2ac7-4a4c-8a10-b3ba07e014f5\",\"type\":\"BasicTicker\"}},\"id\":\"064e9c07-5176-499e-a72a-52595a2f3c22\",\"type\":\"LinearAxis\"},{\"attributes\":{\"callback\":null,\"column_names\":[\"left\",\"right\",\"top\"],\"data\":{\"left\":{\"__ndarray__\":\"AAAAAADIkECPwvUoXPy1QI/C9Shc48NA1qNwPYrIzECPwvUo3NbSQDMzMzNzSddA1qNwPQq820A9CtejUBfgQI/C9SicUOJA4XoUrueJ5EAzMzMzM8PmQIXrUbh+/OhA1qNwPco160AoXI/CFW/tQHoUrkdhqO9AZmZmZtbw8ECPwvUofA3yQLgeheshKvNA4XoUrsdG9EAK16NwbWP1QDMzMzMTgPZAXI/C9bic90CF61G4Xrn4QK5H4XoE1vlA1qNwPary+kD/////Tw/8QChcj8L1K/1AUbgehZtI/kB6FK5HQWX/QFK4HoXzQABBZmZmZkbPAEF7FK5HmV0BQY/C9Sjs6wFBo3A9Cj96AkG4HoXrkQgDQczMzMzklgNB4XoUrjclBEH1KFyPirMEQQrXo3DdQQVBHoXrUTDQBUEzMzMzg14GQUfhehTW7AZBXI/C9Sh7B0FwPQrXewkIQYXrUbjOlwhBmZmZmSEmCUGuR+F6dLQJQcL1KFzHQgpB1qNwPRrRCkHrUbgebV8LQQ==\",\"dtype\":\"float64\",\"shape\":[50]},\"right\":{\"__ndarray__\":\"j8L1KFz8tUCPwvUoXOPDQNajcD2KyMxAj8L1KNzW0kAzMzMzc0nXQNajcD0KvNtAPQrXo1AX4ECPwvUonFDiQOF6FK7nieRAMzMzMzPD5kCF61G4fvzoQNajcD3KNetAKFyPwhVv7UB6FK5HYajvQGZmZmbW8PBAj8L1KHwN8kC4HoXrISrzQOF6FK7HRvRACtejcG1j9UAzMzMzE4D2QFyPwvW4nPdAhetRuF65+ECuR+F6BNb5QNajcD2q8vpA/////08P/EAoXI/C9Sv9QFG4HoWbSP5AehSuR0Fl/0BSuB6F80AAQWZmZmZGzwBBexSuR5ldAUGPwvUo7OsBQaNwPQo/egJBuB6F65EIA0HMzMzM5JYDQeF6FK43JQRB9Shcj4qzBEEK16Nw3UEFQR6F61Ew0AVBMzMzM4NeBkFH4XoU1uwGQVyPwvUoewdBcD0K13sJCEGF61G4zpcIQZmZmZkhJglBrkfhenS0CUHC9Shcx0IKQdajcD0a0QpB61G4Hm1fC0EAAAAAwO0LQQ==\",\"dtype\":\"float64\",\"shape\":[50]},\"top\":{\"__ndarray__\":\"baKHhclRKD8tmmP6Li3yPr0EOjn3nu0++zEqWOKKtT4AAAAAAAAAAAAAAAAAAAAAAAAAAAAAAAAAAAAAAAAAAPsxKljiiqU+AAAAAAAAAAAAAAAAAAAAAAAAAAAAAAAAAAAAAAAAAAAAAAAAAAAAAAAAAAAAAAAAAAAAAAAAAAAAAAAAAAAAAAAAAAAAAAAAAAAAAAAAAAAAAAAAAAAAAAAAAAAAAAAAAAAAAAAAAAAAAAAAAAAAAAAAAAAAAAAAAAAAAAAAAAAAAAAAAAAAAAAAAAAAAAAAAAAAAAAAAAAAAAAAAAAAAAAAAAAAAAAAAAAAAAAAAAAAAAAAAAAAAAAAAAAAAAAAAAAAAAAAAAAAAAAAAAAAAAAAAAAAAAAAAAAAAAAAAAAAAAAAAAAAAAAAAAAAAAAAAAAAAAAAAAAAAAAAAAAAAAAAAAAAAAAAAAAAAAAAAAAAAAAAAAAAAAAAAAAAAAAAAAAAAAAAAAAAAAAAAAAAAAAAAAAAAAAAAAAAAAAAAADnMSpY4oqlPg==\",\"dtype\":\"float64\",\"shape\":[50]}}},\"id\":\"4270b9c7-4ad2-47eb-ae92-d8b4b7100231\",\"type\":\"ColumnDataSource\"},{\"attributes\":{},\"id\":\"f3d56d0b-2ac7-4a4c-8a10-b3ba07e014f5\",\"type\":\"BasicTicker\"},{\"attributes\":{\"plot\":{\"id\":\"f9f7a8d2-a516-409c-b4ed-d840505c781a\",\"subtype\":\"Figure\",\"type\":\"Plot\"},\"ticker\":{\"id\":\"e031cd6f-d117-4bd7-b369-108449460077\",\"type\":\"BasicTicker\"}},\"id\":\"e8e25546-0d6c-4acc-9e61-bcda9b162871\",\"type\":\"Grid\"},{\"attributes\":{\"callback\":null},\"id\":\"ac246ccb-a728-414f-81d8-e286fd49990c\",\"type\":\"DataRange1d\"},{\"attributes\":{\"bottom\":{\"value\":0},\"fill_color\":{\"value\":\"blue\"},\"left\":{\"field\":\"left\"},\"line_color\":{\"value\":\"red\"},\"right\":{\"field\":\"right\"},\"top\":{\"field\":\"top\"}},\"id\":\"6881cda3-a9d8-4e32-80c6-e9b9f97275ae\",\"type\":\"Quad\"},{\"attributes\":{\"source\":{\"id\":\"4270b9c7-4ad2-47eb-ae92-d8b4b7100231\",\"type\":\"ColumnDataSource\"}},\"id\":\"b1ff2dea-43b2-44b7-a3f1-d3d8b2e52d99\",\"type\":\"CDSView\"},{\"attributes\":{},\"id\":\"450d4961-ecf2-48b6-993a-a029a3657362\",\"type\":\"PanTool\"},{\"attributes\":{\"plot\":null,\"text\":\"total cost dist\"},\"id\":\"ce986276-b9c5-439c-afd6-05ec83726c25\",\"type\":\"Title\"},{\"attributes\":{},\"id\":\"e031cd6f-d117-4bd7-b369-108449460077\",\"type\":\"BasicTicker\"},{\"attributes\":{\"bottom_units\":\"screen\",\"fill_alpha\":{\"value\":0.5},\"fill_color\":{\"value\":\"lightgrey\"},\"left_units\":\"screen\",\"level\":\"overlay\",\"line_alpha\":{\"value\":1.0},\"line_color\":{\"value\":\"black\"},\"line_dash\":[4,4],\"line_width\":{\"value\":2},\"plot\":null,\"render_mode\":\"css\",\"right_units\":\"screen\",\"top_units\":\"screen\"},\"id\":\"2a09211a-65ab-4a18-9383-a74256d2203f\",\"type\":\"BoxAnnotation\"},{\"attributes\":{\"callback\":null},\"id\":\"902a92f0-77ed-4df0-aa68-4f6fbe0607ea\",\"type\":\"DataRange1d\"},{\"attributes\":{},\"id\":\"cc23b450-b2c8-45ce-bf04-9cd4c72c5e59\",\"type\":\"LinearScale\"},{\"attributes\":{\"below\":[{\"id\":\"572ac50c-6697-447f-ad6c-aa9aea8fb8b8\",\"type\":\"LinearAxis\"}],\"left\":[{\"id\":\"064e9c07-5176-499e-a72a-52595a2f3c22\",\"type\":\"LinearAxis\"}],\"renderers\":[{\"id\":\"572ac50c-6697-447f-ad6c-aa9aea8fb8b8\",\"type\":\"LinearAxis\"},{\"id\":\"e8e25546-0d6c-4acc-9e61-bcda9b162871\",\"type\":\"Grid\"},{\"id\":\"064e9c07-5176-499e-a72a-52595a2f3c22\",\"type\":\"LinearAxis\"},{\"id\":\"18106e12-69f4-4fe9-ad55-efd3d967e686\",\"type\":\"Grid\"},{\"id\":\"2a09211a-65ab-4a18-9383-a74256d2203f\",\"type\":\"BoxAnnotation\"},{\"id\":\"c4cb5e53-013c-4b55-81a4-67bd4d22ad1c\",\"type\":\"GlyphRenderer\"}],\"title\":{\"id\":\"ce986276-b9c5-439c-afd6-05ec83726c25\",\"type\":\"Title\"},\"toolbar\":{\"id\":\"74b7806f-f461-42f7-95df-89f1b63bdf35\",\"type\":\"Toolbar\"},\"x_range\":{\"id\":\"902a92f0-77ed-4df0-aa68-4f6fbe0607ea\",\"type\":\"DataRange1d\"},\"x_scale\":{\"id\":\"cc23b450-b2c8-45ce-bf04-9cd4c72c5e59\",\"type\":\"LinearScale\"},\"y_range\":{\"id\":\"ac246ccb-a728-414f-81d8-e286fd49990c\",\"type\":\"DataRange1d\"},\"y_scale\":{\"id\":\"b485de94-3b26-43d5-b516-47d7d0da9c3b\",\"type\":\"LinearScale\"}},\"id\":\"f9f7a8d2-a516-409c-b4ed-d840505c781a\",\"subtype\":\"Figure\",\"type\":\"Plot\"},{\"attributes\":{\"formatter\":{\"id\":\"474433c5-70b7-4667-8625-8570be9877c9\",\"type\":\"BasicTickFormatter\"},\"plot\":{\"id\":\"f9f7a8d2-a516-409c-b4ed-d840505c781a\",\"subtype\":\"Figure\",\"type\":\"Plot\"},\"ticker\":{\"id\":\"e031cd6f-d117-4bd7-b369-108449460077\",\"type\":\"BasicTicker\"}},\"id\":\"572ac50c-6697-447f-ad6c-aa9aea8fb8b8\",\"type\":\"LinearAxis\"},{\"attributes\":{},\"id\":\"f6468e31-782d-4475-ab53-f34b9549283c\",\"type\":\"BasicTickFormatter\"},{\"attributes\":{},\"id\":\"16247ee1-05a3-4296-87ed-581dbfd465a8\",\"type\":\"HelpTool\"},{\"attributes\":{},\"id\":\"b485de94-3b26-43d5-b516-47d7d0da9c3b\",\"type\":\"LinearScale\"},{\"attributes\":{},\"id\":\"64a7f0a5-93d0-4e62-bc3c-f13666770482\",\"type\":\"WheelZoomTool\"},{\"attributes\":{\"overlay\":{\"id\":\"2a09211a-65ab-4a18-9383-a74256d2203f\",\"type\":\"BoxAnnotation\"}},\"id\":\"740f3369-0560-479b-b124-ba887e647290\",\"type\":\"BoxZoomTool\"},{\"attributes\":{},\"id\":\"474433c5-70b7-4667-8625-8570be9877c9\",\"type\":\"BasicTickFormatter\"},{\"attributes\":{},\"id\":\"06416f5a-770e-45df-a44a-d31585d9ca4c\",\"type\":\"ResetTool\"},{\"attributes\":{},\"id\":\"570f1b5f-6b6b-48de-8637-37e800fc4c21\",\"type\":\"SaveTool\"},{\"attributes\":{\"bottom\":{\"value\":0},\"fill_alpha\":{\"value\":0.1},\"fill_color\":{\"value\":\"#1f77b4\"},\"left\":{\"field\":\"left\"},\"line_alpha\":{\"value\":0.1},\"line_color\":{\"value\":\"#1f77b4\"},\"right\":{\"field\":\"right\"},\"top\":{\"field\":\"top\"}},\"id\":\"9981f59d-5f2b-42e5-90bb-cb4be9a84239\",\"type\":\"Quad\"},{\"attributes\":{\"dimension\":1,\"plot\":{\"id\":\"f9f7a8d2-a516-409c-b4ed-d840505c781a\",\"subtype\":\"Figure\",\"type\":\"Plot\"},\"ticker\":{\"id\":\"f3d56d0b-2ac7-4a4c-8a10-b3ba07e014f5\",\"type\":\"BasicTicker\"}},\"id\":\"18106e12-69f4-4fe9-ad55-efd3d967e686\",\"type\":\"Grid\"}],\"root_ids\":[\"f9f7a8d2-a516-409c-b4ed-d840505c781a\"]},\"title\":\"Bokeh Application\",\"version\":\"0.12.13\"}};\n",
       "  var render_items = [{\"docid\":\"3e2c19e7-70c0-45ae-a459-7947cc40aaae\",\"elementid\":\"f529740a-0844-4c7f-ba0c-973f3730c278\",\"modelid\":\"f9f7a8d2-a516-409c-b4ed-d840505c781a\"}];\n",
       "  root.Bokeh.embed.embed_items_notebook(docs_json, render_items);\n",
       "\n",
       "  }\n",
       "  if (root.Bokeh !== undefined) {\n",
       "    embed_document(root);\n",
       "  } else {\n",
       "    var attempts = 0;\n",
       "    var timer = setInterval(function(root) {\n",
       "      if (root.Bokeh !== undefined) {\n",
       "        embed_document(root);\n",
       "        clearInterval(timer);\n",
       "      }\n",
       "      attempts++;\n",
       "      if (attempts > 100) {\n",
       "        console.log(\"Bokeh: ERROR: Unable to run BokehJS code because BokehJS library is missing\")\n",
       "        clearInterval(timer);\n",
       "      }\n",
       "    }, 10, root)\n",
       "  }\n",
       "})(window);"
      ],
      "application/vnd.bokehjs_exec.v0+json": ""
     },
     "metadata": {
      "application/vnd.bokehjs_exec.v0+json": {
       "id": "f9f7a8d2-a516-409c-b4ed-d840505c781a"
      }
     },
     "output_type": "display_data"
    }
   ],
   "source": [
    "plot_total(4)"
   ]
  },
  {
   "cell_type": "markdown",
   "metadata": {},
   "source": [
    "search_5.csv is produced with the same as search_1/2.csv, but run with +RTS -N4"
   ]
  },
  {
   "cell_type": "code",
   "execution_count": 56,
   "metadata": {},
   "outputs": [
    {
     "name": "stdout",
     "output_type": "stream",
     "text": [
      "          length         start          read           filter        measure   \\\n",
      "count  542.000000     542.000000     542.000000     542.000000     542.000000   \n",
      "mean     9.038745    1605.904059    2933.044280    3364.389299    4253.876384   \n",
      "std      6.071080   10453.891732   11062.682956   11197.620210   15346.498164   \n",
      "min      1.000000     195.000000     394.000000     578.000000     766.000000   \n",
      "25%      4.000000     461.000000     891.250000    1150.500000    1396.000000   \n",
      "50%      8.000000     604.500000    1466.000000    1725.000000    1946.000000   \n",
      "75%     13.000000     965.250000    2669.000000    3056.000000    3271.250000   \n",
      "max     30.000000  237680.000000  241607.000000  243334.000000  244643.000000   \n",
      "\n",
      "            tagging         sort               end  \n",
      "count     542.000000     542.000000     542.000000  \n",
      "mean     4664.922509    5047.680812    5409.581181  \n",
      "std     15575.159255   15716.996298   15851.388822  \n",
      "min       942.000000    1112.000000    1283.000000  \n",
      "25%      1628.500000    1851.500000    2066.000000  \n",
      "50%      2192.000000    2406.500000    2630.000000  \n",
      "75%      3528.000000    3826.750000    4084.750000  \n",
      "max    245943.000000  247240.000000  248584.000000  \n"
     ]
    },
    {
     "data": {
      "text/html": [
       "\n",
       "<div class=\"bk-root\">\n",
       "    <div class=\"bk-plotdiv\" id=\"5c4caf38-380f-4e69-aa5b-43de2fb450d2\"></div>\n",
       "</div>"
      ]
     },
     "metadata": {},
     "output_type": "display_data"
    },
    {
     "data": {
      "application/javascript": [
       "(function(root) {\n",
       "  function embed_document(root) {\n",
       "    \n",
       "  var docs_json = {\"63d153a6-a855-4958-a71f-48af2148c11a\":{\"roots\":{\"references\":[{\"attributes\":{\"bottom_units\":\"screen\",\"fill_alpha\":{\"value\":0.5},\"fill_color\":{\"value\":\"lightgrey\"},\"left_units\":\"screen\",\"level\":\"overlay\",\"line_alpha\":{\"value\":1.0},\"line_color\":{\"value\":\"black\"},\"line_dash\":[4,4],\"line_width\":{\"value\":2},\"plot\":null,\"render_mode\":\"css\",\"right_units\":\"screen\",\"top_units\":\"screen\"},\"id\":\"3b4df63f-6ee6-43e7-aecd-d884a57ee059\",\"type\":\"BoxAnnotation\"},{\"attributes\":{\"callback\":null},\"id\":\"82cc99ab-b62d-4abb-9e5c-81f22fc66145\",\"type\":\"DataRange1d\"},{\"attributes\":{},\"id\":\"e90a71dd-fa1e-4efb-b4b0-768cca596659\",\"type\":\"SaveTool\"},{\"attributes\":{},\"id\":\"7704ac39-6156-4a51-8faf-b6e8b8f8d04a\",\"type\":\"LinearScale\"},{\"attributes\":{\"bottom\":{\"value\":0},\"fill_color\":{\"value\":\"blue\"},\"left\":{\"field\":\"left\"},\"line_color\":{\"value\":\"red\"},\"right\":{\"field\":\"right\"},\"top\":{\"field\":\"top\"}},\"id\":\"ba349637-0e56-4643-86b2-ce8f44aa9b64\",\"type\":\"Quad\"},{\"attributes\":{\"plot\":null,\"text\":\"total cost dist\"},\"id\":\"c328dfae-555a-412d-8dbf-e72a925055e6\",\"type\":\"Title\"},{\"attributes\":{},\"id\":\"023b45e3-faaf-40a5-a164-cf3c7fada819\",\"type\":\"LinearScale\"},{\"attributes\":{\"formatter\":{\"id\":\"3f79aff2-a8b3-473b-96ba-c31bf9db564d\",\"type\":\"BasicTickFormatter\"},\"plot\":{\"id\":\"84955337-9b1e-4847-8825-1ef9945bc4fe\",\"subtype\":\"Figure\",\"type\":\"Plot\"},\"ticker\":{\"id\":\"e6b958fc-e90c-4d86-acd0-d09451a5ba45\",\"type\":\"BasicTicker\"}},\"id\":\"e5c3855e-069b-4774-8ef1-6bb3c8ca2d2b\",\"type\":\"LinearAxis\"},{\"attributes\":{},\"id\":\"e255ba85-a3eb-414e-8a55-1df73aff268a\",\"type\":\"WheelZoomTool\"},{\"attributes\":{},\"id\":\"e6b958fc-e90c-4d86-acd0-d09451a5ba45\",\"type\":\"BasicTicker\"},{\"attributes\":{\"formatter\":{\"id\":\"72bd4d79-456e-4580-a7ca-23135d20e958\",\"type\":\"BasicTickFormatter\"},\"plot\":{\"id\":\"84955337-9b1e-4847-8825-1ef9945bc4fe\",\"subtype\":\"Figure\",\"type\":\"Plot\"},\"ticker\":{\"id\":\"7e98a998-ad80-4d48-8744-966340605fcf\",\"type\":\"BasicTicker\"}},\"id\":\"5c40396c-0915-4527-9248-a6d2edd8327a\",\"type\":\"LinearAxis\"},{\"attributes\":{\"callback\":null,\"column_names\":[\"left\",\"right\",\"top\"],\"data\":{\"left\":{\"__ndarray__\":\"AAAAAAAMlEDsUbgeBVW4QOxRuB6F08VA4noUrod8z0DsUbgexZLUQGdmZmZGZ9lA4noUrsc73kCuR+F6JIjhQOxRuB5l8uNAKlyPwqVc5kBnZmZm5sboQKRwPQonMetA4noUrmeb7UCQwvUo1ALwQK5H4Xr0N/FAzczMzBRt8kDsUbgeNaLzQAvXo3BV1/RAKlyPwnUM9kBI4XoUlkH3QGdmZma2dvhAhutRuNar+UCkcD0K9+D6QMP1KFwXFvxA4noUrjdL/UABAAAAWID+QCCF61F4tf9AH4XrUUx1AEGuR+F63A8BQT4K16NsqgFBzczMzPxEAkFdj8L1jN8CQexRuB4degNBexSuR60UBEEL16NwPa8EQZqZmZnNSQVBKlyPwl3kBUG5HoXr7X4GQUjhehR+GQdB2KNwPQ60B0FnZmZmnk4IQfYoXI8u6QhBhutRuL6DCUEVrkfhTh4KQaRwPQrfuApBNDMzM29TC0HD9Shc/+0LQVO4HoWPiAxB4noUrh8jDUFxPQrXr70NQQ==\",\"dtype\":\"float64\",\"shape\":[50]},\"right\":{\"__ndarray__\":\"7FG4HgVVuEDsUbgehdPFQOJ6FK6HfM9A7FG4HsWS1EBnZmZmRmfZQOJ6FK7HO95ArkfheiSI4UDsUbgeZfLjQCpcj8KlXOZAZ2ZmZubG6ECkcD0KJzHrQOJ6FK5nm+1AkML1KNQC8ECuR+F69DfxQM3MzMwUbfJA7FG4HjWi80AL16NwVdf0QCpcj8J1DPZASOF6FJZB90BnZmZmtnb4QIbrUbjWq/lApHA9Cvfg+kDD9ShcFxb8QOJ6FK43S/1AAQAAAFiA/kAghetReLX/QB+F61FMdQBBrkfhetwPAUE+CtejbKoBQc3MzMz8RAJBXY/C9YzfAkHsUbgeHXoDQXsUrketFARBC9ejcD2vBEGamZmZzUkFQSpcj8Jd5AVBuR6F6+1+BkFI4XoUfhkHQdijcD0OtAdBZ2ZmZp5OCEH2KFyPLukIQYbrUbi+gwlBFa5H4U4eCkGkcD0K37gKQTQzMzNvUwtBw/UoXP/tC0FTuB6Fj4gMQeJ6FK4fIw1BcT0K16+9DUEAAAAAQFgOQQ==\",\"dtype\":\"float64\",\"shape\":[50]},\"top\":{\"__ndarray__\":\"bvPB4zpxJj8aeTtGPbrdPtxS5YABV/Q+fUysinfGwj4AAAAAAAAAAAAAAAAAAAAAAWaQY58ImT4AAAAAAAAAAPdlkGOfCJk+AAAAAAAAAAAAAAAAAAAAAPdlkGOfCJk+AAAAAAAAAAAAAAAAAAAAAPdlkGOfCJk+AAAAAAAAAAAAAAAAAAAAAAAAAAAAAAAAAAAAAAAAAAAAAAAAAAAAAAAAAAAAAAAAAAAAAAAAAAAAAAAAAAAAAAAAAAAAAAAAAAAAAAAAAAAAAAAAAAAAAAAAAAAAAAAAAAAAAAAAAAAAAAAAAAAAAAAAAAAAAAAAAAAAAAAAAAAAAAAAAAAAAAAAAAAAAAAAAAAAAAAAAAAAAAAAAAAAAAAAAAAAAAAAAAAAAAAAAAAAAAAAAAAAAAAAAAAAAAAAAAAAAAAAAAAAAAAAAAAAAAAAAAAAAAAAAAAAAAAAAAAAAAAAAAAAAAAAAAAAAAAAAAAAAAAAAAAAAAAAAAAAAAAAAAAAAAAAAAAAAAAAAAALZpBjnwipPg==\",\"dtype\":\"float64\",\"shape\":[50]}}},\"id\":\"7f00cc7f-aa08-41d2-be03-864ccbc86001\",\"type\":\"ColumnDataSource\"},{\"attributes\":{},\"id\":\"7e98a998-ad80-4d48-8744-966340605fcf\",\"type\":\"BasicTicker\"},{\"attributes\":{\"dimension\":1,\"plot\":{\"id\":\"84955337-9b1e-4847-8825-1ef9945bc4fe\",\"subtype\":\"Figure\",\"type\":\"Plot\"},\"ticker\":{\"id\":\"7e98a998-ad80-4d48-8744-966340605fcf\",\"type\":\"BasicTicker\"}},\"id\":\"a6aff977-9a19-45de-8cc0-acb1f42588e9\",\"type\":\"Grid\"},{\"attributes\":{\"plot\":{\"id\":\"84955337-9b1e-4847-8825-1ef9945bc4fe\",\"subtype\":\"Figure\",\"type\":\"Plot\"},\"ticker\":{\"id\":\"e6b958fc-e90c-4d86-acd0-d09451a5ba45\",\"type\":\"BasicTicker\"}},\"id\":\"8358346b-c3f3-4f2d-afdb-7daa617f5006\",\"type\":\"Grid\"},{\"attributes\":{},\"id\":\"72bd4d79-456e-4580-a7ca-23135d20e958\",\"type\":\"BasicTickFormatter\"},{\"attributes\":{\"bottom\":{\"value\":0},\"fill_alpha\":{\"value\":0.1},\"fill_color\":{\"value\":\"#1f77b4\"},\"left\":{\"field\":\"left\"},\"line_alpha\":{\"value\":0.1},\"line_color\":{\"value\":\"#1f77b4\"},\"right\":{\"field\":\"right\"},\"top\":{\"field\":\"top\"}},\"id\":\"495a1da4-eaa8-407d-be37-e92e5db00fbe\",\"type\":\"Quad\"},{\"attributes\":{\"below\":[{\"id\":\"e5c3855e-069b-4774-8ef1-6bb3c8ca2d2b\",\"type\":\"LinearAxis\"}],\"left\":[{\"id\":\"5c40396c-0915-4527-9248-a6d2edd8327a\",\"type\":\"LinearAxis\"}],\"renderers\":[{\"id\":\"e5c3855e-069b-4774-8ef1-6bb3c8ca2d2b\",\"type\":\"LinearAxis\"},{\"id\":\"8358346b-c3f3-4f2d-afdb-7daa617f5006\",\"type\":\"Grid\"},{\"id\":\"5c40396c-0915-4527-9248-a6d2edd8327a\",\"type\":\"LinearAxis\"},{\"id\":\"a6aff977-9a19-45de-8cc0-acb1f42588e9\",\"type\":\"Grid\"},{\"id\":\"3b4df63f-6ee6-43e7-aecd-d884a57ee059\",\"type\":\"BoxAnnotation\"},{\"id\":\"1a6ca339-09d6-4fb0-a787-cca4f4b00628\",\"type\":\"GlyphRenderer\"}],\"title\":{\"id\":\"c328dfae-555a-412d-8dbf-e72a925055e6\",\"type\":\"Title\"},\"toolbar\":{\"id\":\"ae3df5ac-34f9-4508-a425-a0ec53e09d99\",\"type\":\"Toolbar\"},\"x_range\":{\"id\":\"82cc99ab-b62d-4abb-9e5c-81f22fc66145\",\"type\":\"DataRange1d\"},\"x_scale\":{\"id\":\"7704ac39-6156-4a51-8faf-b6e8b8f8d04a\",\"type\":\"LinearScale\"},\"y_range\":{\"id\":\"b0a522c0-b2ae-486a-a77e-52377237caab\",\"type\":\"DataRange1d\"},\"y_scale\":{\"id\":\"023b45e3-faaf-40a5-a164-cf3c7fada819\",\"type\":\"LinearScale\"}},\"id\":\"84955337-9b1e-4847-8825-1ef9945bc4fe\",\"subtype\":\"Figure\",\"type\":\"Plot\"},{\"attributes\":{\"source\":{\"id\":\"7f00cc7f-aa08-41d2-be03-864ccbc86001\",\"type\":\"ColumnDataSource\"}},\"id\":\"75ef0be3-6bf4-461b-b00b-e6b734cdb8e9\",\"type\":\"CDSView\"},{\"attributes\":{},\"id\":\"5eb44cc4-e040-44b6-b7bb-aef6c5c37c8d\",\"type\":\"ResetTool\"},{\"attributes\":{\"data_source\":{\"id\":\"7f00cc7f-aa08-41d2-be03-864ccbc86001\",\"type\":\"ColumnDataSource\"},\"glyph\":{\"id\":\"ba349637-0e56-4643-86b2-ce8f44aa9b64\",\"type\":\"Quad\"},\"hover_glyph\":null,\"muted_glyph\":null,\"nonselection_glyph\":{\"id\":\"495a1da4-eaa8-407d-be37-e92e5db00fbe\",\"type\":\"Quad\"},\"selection_glyph\":null,\"view\":{\"id\":\"75ef0be3-6bf4-461b-b00b-e6b734cdb8e9\",\"type\":\"CDSView\"}},\"id\":\"1a6ca339-09d6-4fb0-a787-cca4f4b00628\",\"type\":\"GlyphRenderer\"},{\"attributes\":{},\"id\":\"1efe5b07-113b-4577-a2b6-8c651370e631\",\"type\":\"PanTool\"},{\"attributes\":{\"callback\":null},\"id\":\"b0a522c0-b2ae-486a-a77e-52377237caab\",\"type\":\"DataRange1d\"},{\"attributes\":{},\"id\":\"1c2e4e64-2049-43b7-9434-9ac614f93692\",\"type\":\"HelpTool\"},{\"attributes\":{},\"id\":\"3f79aff2-a8b3-473b-96ba-c31bf9db564d\",\"type\":\"BasicTickFormatter\"},{\"attributes\":{\"overlay\":{\"id\":\"3b4df63f-6ee6-43e7-aecd-d884a57ee059\",\"type\":\"BoxAnnotation\"}},\"id\":\"53a8ddae-3ad6-4111-b723-88e4dcae29f0\",\"type\":\"BoxZoomTool\"},{\"attributes\":{\"active_drag\":\"auto\",\"active_inspect\":\"auto\",\"active_scroll\":\"auto\",\"active_tap\":\"auto\",\"tools\":[{\"id\":\"1efe5b07-113b-4577-a2b6-8c651370e631\",\"type\":\"PanTool\"},{\"id\":\"e255ba85-a3eb-414e-8a55-1df73aff268a\",\"type\":\"WheelZoomTool\"},{\"id\":\"53a8ddae-3ad6-4111-b723-88e4dcae29f0\",\"type\":\"BoxZoomTool\"},{\"id\":\"e90a71dd-fa1e-4efb-b4b0-768cca596659\",\"type\":\"SaveTool\"},{\"id\":\"5eb44cc4-e040-44b6-b7bb-aef6c5c37c8d\",\"type\":\"ResetTool\"},{\"id\":\"1c2e4e64-2049-43b7-9434-9ac614f93692\",\"type\":\"HelpTool\"}]},\"id\":\"ae3df5ac-34f9-4508-a425-a0ec53e09d99\",\"type\":\"Toolbar\"}],\"root_ids\":[\"84955337-9b1e-4847-8825-1ef9945bc4fe\"]},\"title\":\"Bokeh Application\",\"version\":\"0.12.13\"}};\n",
       "  var render_items = [{\"docid\":\"63d153a6-a855-4958-a71f-48af2148c11a\",\"elementid\":\"5c4caf38-380f-4e69-aa5b-43de2fb450d2\",\"modelid\":\"84955337-9b1e-4847-8825-1ef9945bc4fe\"}];\n",
       "  root.Bokeh.embed.embed_items_notebook(docs_json, render_items);\n",
       "\n",
       "  }\n",
       "  if (root.Bokeh !== undefined) {\n",
       "    embed_document(root);\n",
       "  } else {\n",
       "    var attempts = 0;\n",
       "    var timer = setInterval(function(root) {\n",
       "      if (root.Bokeh !== undefined) {\n",
       "        embed_document(root);\n",
       "        clearInterval(timer);\n",
       "      }\n",
       "      attempts++;\n",
       "      if (attempts > 100) {\n",
       "        console.log(\"Bokeh: ERROR: Unable to run BokehJS code because BokehJS library is missing\")\n",
       "        clearInterval(timer);\n",
       "      }\n",
       "    }, 10, root)\n",
       "  }\n",
       "})(window);"
      ],
      "application/vnd.bokehjs_exec.v0+json": ""
     },
     "metadata": {
      "application/vnd.bokehjs_exec.v0+json": {
       "id": "84955337-9b1e-4847-8825-1ef9945bc4fe"
      }
     },
     "output_type": "display_data"
    }
   ],
   "source": [
    "plot_total(5)"
   ]
  },
  {
   "cell_type": "code",
   "execution_count": null,
   "metadata": {
    "collapsed": true
   },
   "outputs": [],
   "source": [
    "# todo: verify that on all single thread cases, filter, tagging and sort should have about the same performace"
   ]
  }
 ],
 "metadata": {
  "kernelspec": {
   "display_name": "Python 3",
   "language": "python",
   "name": "python3"
  },
  "language_info": {
   "codemirror_mode": {
    "name": "ipython",
    "version": 3
   },
   "file_extension": ".py",
   "mimetype": "text/x-python",
   "name": "python",
   "nbconvert_exporter": "python",
   "pygments_lexer": "ipython3",
   "version": "3.6.4"
  }
 },
 "nbformat": 4,
 "nbformat_minor": 2
}
